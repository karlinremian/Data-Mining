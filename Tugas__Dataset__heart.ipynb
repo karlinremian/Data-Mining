{
  "nbformat": 4,
  "nbformat_minor": 0,
  "metadata": {
    "colab": {
      "provenance": [],
      "authorship_tag": "ABX9TyPWHh9CM37nR2aUdhldxaUF",
      "include_colab_link": true
    },
    "kernelspec": {
      "name": "python3",
      "display_name": "Python 3"
    },
    "language_info": {
      "name": "python"
    }
  },
  "cells": [
    {
      "cell_type": "markdown",
      "metadata": {
        "id": "view-in-github",
        "colab_type": "text"
      },
      "source": [
        "<a href=\"https://colab.research.google.com/github/karlinremian/Data-Mining/blob/main/Tugas__Dataset__heart.ipynb\" target=\"_parent\"><img src=\"https://colab.research.google.com/assets/colab-badge.svg\" alt=\"Open In Colab\"/></a>"
      ]
    },
    {
      "cell_type": "markdown",
      "source": [
        "Klasifikasi Penyakit Jantung dengan Naive Bayes (GaussianNB)\n",
        "\n"
      ],
      "metadata": {
        "id": "wY22dXsV_yDr"
      }
    },
    {
      "cell_type": "markdown",
      "source": [
        "Import Library"
      ],
      "metadata": {
        "id": "5tv1quGB9UIq"
      }
    },
    {
      "cell_type": "code",
      "execution_count": null,
      "metadata": {
        "id": "Mha1KrjW9R59"
      },
      "outputs": [],
      "source": [
        "import pandas as pd\n",
        "import numpy as np\n",
        "import matplotlib.pyplot as plt\n",
        "import seaborn as sns"
      ]
    },
    {
      "cell_type": "markdown",
      "source": [
        "Import Dataset"
      ],
      "metadata": {
        "id": "lzR34E9D9f0n"
      }
    },
    {
      "cell_type": "code",
      "source": [
        "dataset = pd.read_csv('heart.csv')  # memanggil dataset\n",
        "x = dataset[['age', 'chol']].values  # ambil kolom 'age' dan 'chol' sebagai fitur\n",
        "y = dataset['target'].values         # ambil kolom 'target' sebagai label"
      ],
      "metadata": {
        "id": "wQs4Eth89kmp"
      },
      "execution_count": null,
      "outputs": []
    },
    {
      "cell_type": "code",
      "source": [
        "print (x)"
      ],
      "metadata": {
        "colab": {
          "base_uri": "https://localhost:8080/"
        },
        "id": "g14gpb4H9vm3",
        "outputId": "0846a6d6-e3a2-4ef6-a813-33d614a414f7"
      },
      "execution_count": null,
      "outputs": [
        {
          "output_type": "stream",
          "name": "stdout",
          "text": [
            "[[ 52 212]\n",
            " [ 53 203]\n",
            " [ 70 174]\n",
            " ...\n",
            " [ 47 275]\n",
            " [ 50 254]\n",
            " [ 54 188]]\n"
          ]
        }
      ]
    },
    {
      "cell_type": "code",
      "source": [
        "print (y)"
      ],
      "metadata": {
        "colab": {
          "base_uri": "https://localhost:8080/"
        },
        "id": "OYyrV0sr90kJ",
        "outputId": "4e851b2f-08e8-45eb-94fe-2c8ec17c6193"
      },
      "execution_count": null,
      "outputs": [
        {
          "output_type": "stream",
          "name": "stdout",
          "text": [
            "[0 0 0 ... 0 1 0]\n"
          ]
        }
      ]
    },
    {
      "cell_type": "markdown",
      "source": [
        "Spilt Dataset"
      ],
      "metadata": {
        "id": "Q5pugWLw-LLc"
      }
    },
    {
      "cell_type": "code",
      "source": [
        "from sklearn.model_selection import train_test_split\n",
        "x_train, x_test, y_train, y_test = train_test_split(x, y, test_size=0.25, random_state=0)"
      ],
      "metadata": {
        "id": "LcPZqPP5-Lwk"
      },
      "execution_count": null,
      "outputs": []
    },
    {
      "cell_type": "markdown",
      "source": [
        "Feature Scaling"
      ],
      "metadata": {
        "id": "Sn4MzM2m-V3X"
      }
    },
    {
      "cell_type": "code",
      "source": [
        "from sklearn.preprocessing import StandardScaler\n",
        "sc_x = StandardScaler()\n",
        "x_train = sc_x.fit_transform(x_train)\n",
        "x_test = sc_x.transform(x_test)"
      ],
      "metadata": {
        "id": "Lpnugp1b-Wkd"
      },
      "execution_count": null,
      "outputs": []
    },
    {
      "cell_type": "code",
      "source": [
        "print (x_train)"
      ],
      "metadata": {
        "colab": {
          "base_uri": "https://localhost:8080/"
        },
        "id": "NxI9rbx6-jSd",
        "outputId": "a935dead-2ea1-431b-e70f-73d32bb33725"
      },
      "execution_count": null,
      "outputs": [
        {
          "output_type": "stream",
          "name": "stdout",
          "text": [
            "[[ 1.3756016   0.80373723]\n",
            " [-0.50461767 -0.90148382]\n",
            " [ 1.15439933  0.72442462]\n",
            " ...\n",
            " [ 1.15439933  0.72442462]\n",
            " [ 1.3756016  -0.16784221]\n",
            " [ 0.60139366 -1.1989061 ]]\n"
          ]
        }
      ]
    },
    {
      "cell_type": "code",
      "source": [
        "print (x_test)"
      ],
      "metadata": {
        "colab": {
          "base_uri": "https://localhost:8080/"
        },
        "id": "MjR7TyDH-nsQ",
        "outputId": "4ba03f46-eaa7-4d3d-c584-6c37776727c9"
      },
      "execution_count": null,
      "outputs": [
        {
          "output_type": "stream",
          "name": "stdout",
          "text": [
            "[[-1.16822447 -0.24715481]\n",
            " [ 0.3801914   1.45806624]\n",
            " [ 0.93319706 -1.15924979]\n",
            " [ 0.3801914  -0.68337415]\n",
            " [ 0.7119948   0.28820528]\n",
            " [-0.17281427 -0.84199937]\n",
            " [ 0.3801914   1.08133135]\n",
            " [ 0.93319706  3.20294359]\n",
            " [ 0.26959026 -2.26962629]\n",
            " [-0.2834154  -0.30663927]\n",
            " [ 0.26959026 -0.32646742]\n",
            " [-0.39401654  1.04167505]\n",
            " [ 1.0437982  -0.68337415]\n",
            " [-0.72581994 -0.32646742]\n",
            " [-1.72123014  1.49772254]\n",
            " [ 0.60139366  1.43823808]\n",
            " [-1.50002787  1.20030026]\n",
            " [-0.94702221  1.29944102]\n",
            " [-1.38942674 -0.72303045]\n",
            " [ 0.49079253 -1.35753131]\n",
            " [-1.16822447 -0.50492079]\n",
            " [-0.83642107  0.22872083]\n",
            " [-1.50002787 -0.6238897 ]\n",
            " [-0.83642107  0.22872083]\n",
            " [ 0.60139366  1.43823808]\n",
            " [-0.61521881  0.50631495]\n",
            " [-1.72123014 -0.50492079]\n",
            " [-0.2834154  -0.82217121]\n",
            " [-0.06221314  1.16064396]\n",
            " [-1.16822447 -2.07134477]\n",
            " [-0.94702221 -0.82217121]\n",
            " [ 0.93319706  3.20294359]\n",
            " [-1.27882561 -1.35753131]\n",
            " [-1.38942674  0.38734604]\n",
            " [ 1.0437982   1.25978472]\n",
            " [ 0.60139366  0.72442462]\n",
            " [ 0.82259593 -0.02904514]\n",
            " [-0.39401654  1.18047211]\n",
            " [ 0.15898913 -1.04028088]\n",
            " [-1.05762334  1.23995657]\n",
            " [-0.83642107 -0.0488733 ]\n",
            " [-1.38942674 -0.38595188]\n",
            " [ 2.3710118  -0.96096828]\n",
            " [-0.50461767 -0.02904514]\n",
            " [-0.83642107  0.14940822]\n",
            " [-1.05762334 -1.69460989]\n",
            " [-2.16363467 -1.2385624 ]\n",
            " [-1.05762334  0.36751789]\n",
            " [-0.17281427  0.72442462]\n",
            " [ 0.49079253 -0.54457709]\n",
            " [-0.94702221  0.07009561]\n",
            " [ 0.49079253 -0.1281859 ]\n",
            " [ 1.15439933 -1.35753131]\n",
            " [ 0.26959026 -0.26698296]\n",
            " [ 1.707405    1.51755069]\n",
            " [-2.16363467 -0.94114012]\n",
            " [-0.06221314  0.40717419]\n",
            " [ 0.26959026  2.15205155]\n",
            " [ 0.048388   -0.56440524]\n",
            " [ 0.3801914   1.45806624]\n",
            " [ 0.7119948  -0.84199937]\n",
            " [ 0.82259593  0.34768974]\n",
            " [ 1.3756016   0.62528386]\n",
            " [-1.61062901 -0.44543633]\n",
            " [ 0.26959026 -0.0885296 ]\n",
            " [ 0.3801914   1.43823808]\n",
            " [-0.06221314 -0.1281859 ]\n",
            " [-2.16363467 -1.2385624 ]\n",
            " [-1.16822447 -0.06870145]\n",
            " [-1.50002787 -0.94114012]\n",
            " [ 1.707405   -0.00921699]\n",
            " [-0.50461767 -0.52474894]\n",
            " [-0.17281427 -0.22732666]\n",
            " [ 0.15898913  0.84339353]\n",
            " [ 1.59680387  0.16923637]\n",
            " [ 0.048388   -0.56440524]\n",
            " [ 0.93319706 -0.96096828]\n",
            " [-0.2834154  -0.24715481]\n",
            " [ 0.93319706  0.46665865]\n",
            " [ 0.26959026  0.60545571]\n",
            " [-0.2834154  -0.663546  ]\n",
            " [ 0.3801914  -0.22732666]\n",
            " [ 2.14980953  0.46665865]\n",
            " [ 0.26959026 -0.18767036]\n",
            " [-0.94702221 -0.0488733 ]\n",
            " [ 0.3801914  -0.54457709]\n",
            " [-1.05762334 -0.22732666]\n",
            " [ 1.15439933 -0.40578003]\n",
            " [-0.06221314  1.16064396]\n",
            " [ 0.7119948   0.28820528]\n",
            " [-0.94702221  1.29944102]\n",
            " [ 1.707405   -1.41701577]\n",
            " [-0.2834154  -1.17907794]\n",
            " [ 0.3801914  -0.10835775]\n",
            " [ 1.81800613  1.12098766]\n",
            " [-0.2834154  -0.663546  ]\n",
            " [-1.61062901 -0.44543633]\n",
            " [ 0.60139366 -0.78251491]\n",
            " [-1.50002787  0.08992377]\n",
            " [-2.16363467 -1.06010903]\n",
            " [-1.27882561 -0.68337415]\n",
            " [ 1.26500046 -0.38595188]\n",
            " [-0.94702221 -0.82217121]\n",
            " [ 1.0437982  -0.663546  ]\n",
            " [ 0.7119948  -0.22732666]\n",
            " [ 0.15898913 -0.48509263]\n",
            " [ 0.26959026  0.86322168]\n",
            " [ 1.0437982   1.33909733]\n",
            " [-0.61521881 -1.13942164]\n",
            " [-1.27882561  1.14081581]\n",
            " [-1.38942674 -0.10835775]\n",
            " [ 0.49079253  0.07009561]\n",
            " [ 0.3801914  -0.50492079]\n",
            " [ 1.0437982  -0.663546  ]\n",
            " [-0.06221314 -0.26698296]\n",
            " [-0.17281427 -0.84199937]\n",
            " [-1.16822447 -0.06870145]\n",
            " [-1.27882561 -1.35753131]\n",
            " [ 1.48620273 -1.04028088]\n",
            " [ 1.26500046 -0.38595188]\n",
            " [ 1.15439933  0.72442462]\n",
            " [ 0.15898913 -1.04028088]\n",
            " [-2.16363467 -1.06010903]\n",
            " [ 0.3801914  -0.58423339]\n",
            " [ 0.49079253  0.84339353]\n",
            " [-0.72581994 -0.46526448]\n",
            " [-1.72123014 -0.92131197]\n",
            " [-0.2834154  -0.92131197]\n",
            " [-0.17281427 -0.58423339]\n",
            " [-1.27882561 -1.35753131]\n",
            " [ 1.3756016  -0.32646742]\n",
            " [ 0.82259593  0.70459647]\n",
            " [-1.05762334  1.23995657]\n",
            " [-0.2834154   1.57703515]\n",
            " [-0.2834154   1.04167505]\n",
            " [ 1.3756016   1.0615032 ]\n",
            " [ 0.048388    0.86322168]\n",
            " [-2.82724148 -0.82217121]\n",
            " [ 0.15898913  0.84339353]\n",
            " [-0.61521881  0.40717419]\n",
            " [ 0.49079253  0.4864868 ]\n",
            " [ 0.048388    1.61669145]\n",
            " [-0.39401654 -0.64371785]\n",
            " [ 0.3801914  -0.42560818]\n",
            " [ 0.82259593 -0.02904514]\n",
            " [-0.72581994 -0.00921699]\n",
            " [-0.06221314  0.84339353]\n",
            " [-1.05762334 -0.74285861]\n",
            " [ 1.59680387 -0.22732666]\n",
            " [-0.94702221  0.07009561]\n",
            " [-0.2834154  -0.92131197]\n",
            " [ 0.49079253 -0.48509263]\n",
            " [ 0.26959026 -2.36876705]\n",
            " [ 0.048388   -0.56440524]\n",
            " [ 1.707405    0.46665865]\n",
            " [ 0.60139366  0.24854898]\n",
            " [-1.50002787 -0.20749851]\n",
            " [-0.06221314  0.54597126]\n",
            " [ 0.3801914  -0.40578003]\n",
            " [ 1.707405    1.51755069]\n",
            " [ 0.048388   -0.56440524]\n",
            " [-0.50461767 -0.98079643]\n",
            " [-0.61521881  0.40717419]\n",
            " [-1.16822447 -1.51615652]\n",
            " [ 1.3756016  -0.44543633]\n",
            " [-0.06221314 -0.1281859 ]\n",
            " [-1.72123014 -0.50492079]\n",
            " [-1.38942674 -1.29804685]\n",
            " [-1.16822447 -2.07134477]\n",
            " [ 0.82259593 -0.72303045]\n",
            " [-1.16822447 -0.20749851]\n",
            " [ 0.49079253  0.50631495]\n",
            " [-1.05762334 -0.22732666]\n",
            " [ 0.49079253 -0.48509263]\n",
            " [ 1.26500046  0.64511201]\n",
            " [-1.50002787  0.08992377]\n",
            " [-0.72581994  0.56579941]\n",
            " [-1.50002787 -0.84199937]\n",
            " [-1.94243241 -0.60406154]\n",
            " [-0.94702221  1.29944102]\n",
            " [ 0.82259593 -1.61529728]\n",
            " [ 0.26959026 -0.88165567]\n",
            " [ 0.048388    2.13222339]\n",
            " [ 1.707405    0.46665865]\n",
            " [ 0.82259593 -0.74285861]\n",
            " [-1.61062901 -1.55581283]\n",
            " [ 0.82259593  2.94517762]\n",
            " [-0.17281427 -0.84199937]\n",
            " [-0.06221314 -0.1281859 ]\n",
            " [ 1.15439933  0.16923637]\n",
            " [ 1.3756016  -0.16784221]\n",
            " [-1.05762334 -0.22732666]\n",
            " [ 0.49079253 -0.54457709]\n",
            " [-0.83642107 -0.82217121]\n",
            " [ 0.048388    0.86322168]\n",
            " [-0.39401654 -0.00921699]\n",
            " [ 0.82259593  2.94517762]\n",
            " [-1.50002787 -1.75409434]\n",
            " [-0.72581994 -0.32646742]\n",
            " [ 0.82259593  0.96236244]\n",
            " [-1.27882561 -0.64371785]\n",
            " [-0.17281427  0.36751789]\n",
            " [-1.27882561 -0.64371785]\n",
            " [ 1.26500046 -0.34629557]\n",
            " [ 1.81800613 -1.91271956]\n",
            " [-1.38942674 -0.02904514]\n",
            " [ 1.26500046  0.64511201]\n",
            " [-0.17281427  0.01061116]\n",
            " [ 0.3801914   0.05026746]\n",
            " [-0.17281427  0.72442462]\n",
            " [-0.2834154  -0.98079643]\n",
            " [ 0.49079253  0.54597126]\n",
            " [ 0.15898913 -0.18767036]\n",
            " [ 0.7119948   1.6761759 ]\n",
            " [ 0.3801914   1.43823808]\n",
            " [ 0.49079253 -0.1281859 ]\n",
            " [-0.39401654 -0.36612372]\n",
            " [-0.39401654  1.04167505]\n",
            " [-1.27882561  0.03043931]\n",
            " [ 1.707405   -0.00921699]\n",
            " [ 0.15898913  3.24259989]\n",
            " [-1.05762334 -1.69460989]\n",
            " [ 1.15439933  0.46665865]\n",
            " [ 0.60139366  0.14940822]\n",
            " [-0.17281427 -0.22732666]\n",
            " [ 0.82259593  0.4468305 ]\n",
            " [ 0.26959026  1.77531666]\n",
            " [-1.50002787  0.4468305 ]\n",
            " [ 0.49079253  0.50631495]\n",
            " [-1.38942674  1.37875363]\n",
            " [-1.27882561  0.03043931]\n",
            " [ 0.26959026 -0.76268676]\n",
            " [ 1.3756016   6.31596341]\n",
            " [ 0.93319706  1.6761759 ]\n",
            " [ 1.15439933  2.27102046]\n",
            " [-0.83642107  0.58562756]\n",
            " [ 1.15439933  3.40122511]\n",
            " [ 0.93319706  0.12958007]\n",
            " [-1.72123014 -0.52474894]\n",
            " [ 1.15439933  0.16923637]\n",
            " [-0.61521881 -1.91271956]\n",
            " [-0.39401654  1.18047211]\n",
            " [ 0.82259593  0.96236244]\n",
            " [ 0.26959026  0.56579941]\n",
            " [ 1.3756016   0.62528386]\n",
            " [-0.50461767 -0.02904514]\n",
            " [ 0.048388    2.13222339]\n",
            " [-1.38942674  0.98219059]\n",
            " [-0.94702221 -0.28681112]\n",
            " [-0.2834154  -0.82217121]\n",
            " [ 0.49079253 -0.82217121]\n",
            " [ 1.3756016   1.0615032 ]\n",
            " [-0.2834154  -0.88165567]\n",
            " [-0.39401654 -0.00921699]\n",
            " [ 1.59680387 -0.22732666]\n",
            " [ 0.82259593 -0.28681112]\n",
            " [ 1.0437982  -0.68337415]]\n"
          ]
        }
      ]
    },
    {
      "cell_type": "code",
      "source": [
        "print (y_train)"
      ],
      "metadata": {
        "colab": {
          "base_uri": "https://localhost:8080/"
        },
        "id": "SGe-db6T-sXQ",
        "outputId": "06cca705-6afc-4131-c66e-81faaf406fef"
      },
      "execution_count": null,
      "outputs": [
        {
          "output_type": "stream",
          "name": "stdout",
          "text": [
            "[0 0 0 1 1 1 1 1 0 0 1 1 1 0 0 1 0 1 0 0 1 1 1 0 1 1 0 1 0 0 1 1 1 0 1 0 1\n",
            " 0 1 0 1 0 1 1 0 1 1 1 0 1 0 1 0 1 0 1 1 1 1 0 1 0 1 1 0 1 1 0 1 0 1 0 1 0\n",
            " 0 0 1 0 0 1 1 1 0 1 0 1 0 1 1 1 1 0 0 0 0 0 0 0 1 1 1 1 1 1 1 1 0 1 0 1 1\n",
            " 1 0 1 0 1 1 1 0 0 1 0 0 1 0 1 1 1 1 0 1 1 1 1 0 0 1 0 0 1 1 1 0 0 1 1 0 1\n",
            " 1 0 0 0 0 0 0 0 0 1 0 1 1 0 0 0 1 1 1 1 0 0 1 0 1 0 1 0 0 0 0 0 0 0 1 1 1\n",
            " 1 0 1 0 1 1 0 1 1 1 0 1 1 0 1 1 0 1 0 1 1 1 1 0 0 0 1 0 0 0 1 0 0 1 1 1 1\n",
            " 0 1 0 1 1 0 0 1 0 0 1 0 1 0 0 0 1 1 1 0 1 0 1 0 1 1 1 0 0 0 1 0 0 1 1 1 1\n",
            " 0 0 1 0 0 1 1 0 0 0 1 1 0 1 1 1 1 1 0 1 0 0 1 0 1 0 1 0 0 0 0 1 0 1 1 1 1\n",
            " 0 0 1 0 1 0 1 1 1 1 1 1 0 0 1 1 0 0 1 1 0 1 1 1 0 0 1 1 1 0 1 0 1 0 0 0 0\n",
            " 0 1 1 0 0 1 0 1 1 1 1 0 0 1 1 1 1 1 1 1 0 1 0 1 1 1 0 0 0 0 1 1 1 1 0 1 0\n",
            " 1 0 0 1 1 0 0 0 0 0 0 0 0 0 0 1 0 1 0 1 1 1 0 1 1 0 1 0 0 1 0 1 0 1 1 1 1\n",
            " 0 1 0 1 1 0 0 0 0 0 1 1 1 1 1 1 0 0 0 1 1 0 1 0 1 0 1 0 0 0 0 1 1 0 0 1 0\n",
            " 1 1 0 1 0 0 0 0 0 0 1 0 1 0 0 1 0 0 0 0 0 0 0 1 1 1 0 0 1 0 0 1 1 1 0 1 1\n",
            " 1 1 0 0 0 0 1 1 1 1 0 0 0 0 1 0 0 0 1 0 1 1 0 0 1 1 1 0 0 1 0 1 0 1 0 1 0\n",
            " 1 0 1 1 0 0 1 0 1 1 0 1 0 0 1 1 0 1 0 1 1 1 0 1 0 0 0 0 1 1 0 0 0 1 1 1 1\n",
            " 0 1 0 1 0 0 1 0 1 1 0 1 0 1 1 1 1 0 0 1 0 1 0 1 0 0 1 0 1 0 0 1 1 1 0 1 1\n",
            " 1 0 1 1 0 0 1 0 0 0 1 1 0 0 1 0 1 0 0 1 1 0 1 0 1 0 0 1 0 0 0 1 1 0 1 0 0\n",
            " 0 0 0 1 1 0 0 0 0 1 1 1 0 1 0 1 1 0 0 1 1 0 1 0 0 0 1 0 1 0 1 1 0 1 1 1 0\n",
            " 1 1 1 1 0 0 1 0 1 1 1 0 0 1 1 1 0 1 0 1 1 0 1 0 0 1 0 0 0 0 1 0 1 0 1 1 1\n",
            " 0 0 1 0 1 1 0 0 1 1 0 1 1 0 1 1 1 0 0 0 1 0 1 0 1 0 1 0 0 0 1 0 0 0 0 0 0\n",
            " 1 0 0 1 0 0 0 0 0 1 0 0 1 0 1 1 1 1 1 0 1 1 1 0 1 0 0 0]\n"
          ]
        }
      ]
    },
    {
      "cell_type": "code",
      "source": [
        "print (y_test)"
      ],
      "metadata": {
        "colab": {
          "base_uri": "https://localhost:8080/"
        },
        "id": "kHGOumwR-tgm",
        "outputId": "1b1c5079-b836-4b5e-c02b-1ae052bd0fb9"
      },
      "execution_count": null,
      "outputs": [
        {
          "output_type": "stream",
          "name": "stdout",
          "text": [
            "[1 0 0 1 0 0 0 0 0 0 0 0 1 0 1 1 1 0 1 0 1 1 1 1 1 1 1 0 1 1 1 0 0 1 0 0 0\n",
            " 0 1 1 0 1 1 1 1 1 1 0 0 0 0 0 1 0 0 0 0 1 0 0 0 0 1 0 0 0 0 1 1 1 1 1 1 0\n",
            " 0 0 0 1 0 0 0 0 1 0 1 0 1 0 1 0 0 0 1 1 1 0 0 0 1 1 1 1 1 0 0 1 0 1 0 1 1\n",
            " 0 1 0 1 0 1 0 0 1 0 1 1 0 0 1 1 1 1 0 0 0 1 1 1 0 0 1 0 1 1 0 1 0 0 1 1 1\n",
            " 1 0 1 1 1 0 0 0 1 1 0 0 0 1 1 0 1 1 1 1 1 1 1 1 1 1 1 1 0 1 1 0 0 1 0 0 1\n",
            " 0 1 0 1 0 0 1 0 1 0 1 1 1 0 0 1 1 1 0 1 1 1 1 1 0 1 0 1 0 0 0 1 0 1 1 0 1\n",
            " 1 0 1 0 0 1 1 0 0 1 1 0 1 0 1 1 0 0 0 0 0 0 1 1 0 1 0 0 0 0 1 1 1 1 1]\n"
          ]
        }
      ]
    },
    {
      "cell_type": "markdown",
      "source": [
        "\n",
        "latih model naive_bayes dengan data training"
      ],
      "metadata": {
        "id": "2995HrPw-x7l"
      }
    },
    {
      "cell_type": "code",
      "source": [
        "from sklearn.naive_bayes import GaussianNB\n",
        "classifier = GaussianNB()\n",
        "classifier.fit(x_train, y_train)"
      ],
      "metadata": {
        "colab": {
          "base_uri": "https://localhost:8080/",
          "height": 80
        },
        "id": "ojaeRCgu-ziz",
        "outputId": "3c822b09-38f0-47e5-f436-3d7966ae52c7"
      },
      "execution_count": null,
      "outputs": [
        {
          "output_type": "execute_result",
          "data": {
            "text/plain": [
              "GaussianNB()"
            ],
            "text/html": [
              "<style>#sk-container-id-1 {\n",
              "  /* Definition of color scheme common for light and dark mode */\n",
              "  --sklearn-color-text: #000;\n",
              "  --sklearn-color-text-muted: #666;\n",
              "  --sklearn-color-line: gray;\n",
              "  /* Definition of color scheme for unfitted estimators */\n",
              "  --sklearn-color-unfitted-level-0: #fff5e6;\n",
              "  --sklearn-color-unfitted-level-1: #f6e4d2;\n",
              "  --sklearn-color-unfitted-level-2: #ffe0b3;\n",
              "  --sklearn-color-unfitted-level-3: chocolate;\n",
              "  /* Definition of color scheme for fitted estimators */\n",
              "  --sklearn-color-fitted-level-0: #f0f8ff;\n",
              "  --sklearn-color-fitted-level-1: #d4ebff;\n",
              "  --sklearn-color-fitted-level-2: #b3dbfd;\n",
              "  --sklearn-color-fitted-level-3: cornflowerblue;\n",
              "\n",
              "  /* Specific color for light theme */\n",
              "  --sklearn-color-text-on-default-background: var(--sg-text-color, var(--theme-code-foreground, var(--jp-content-font-color1, black)));\n",
              "  --sklearn-color-background: var(--sg-background-color, var(--theme-background, var(--jp-layout-color0, white)));\n",
              "  --sklearn-color-border-box: var(--sg-text-color, var(--theme-code-foreground, var(--jp-content-font-color1, black)));\n",
              "  --sklearn-color-icon: #696969;\n",
              "\n",
              "  @media (prefers-color-scheme: dark) {\n",
              "    /* Redefinition of color scheme for dark theme */\n",
              "    --sklearn-color-text-on-default-background: var(--sg-text-color, var(--theme-code-foreground, var(--jp-content-font-color1, white)));\n",
              "    --sklearn-color-background: var(--sg-background-color, var(--theme-background, var(--jp-layout-color0, #111)));\n",
              "    --sklearn-color-border-box: var(--sg-text-color, var(--theme-code-foreground, var(--jp-content-font-color1, white)));\n",
              "    --sklearn-color-icon: #878787;\n",
              "  }\n",
              "}\n",
              "\n",
              "#sk-container-id-1 {\n",
              "  color: var(--sklearn-color-text);\n",
              "}\n",
              "\n",
              "#sk-container-id-1 pre {\n",
              "  padding: 0;\n",
              "}\n",
              "\n",
              "#sk-container-id-1 input.sk-hidden--visually {\n",
              "  border: 0;\n",
              "  clip: rect(1px 1px 1px 1px);\n",
              "  clip: rect(1px, 1px, 1px, 1px);\n",
              "  height: 1px;\n",
              "  margin: -1px;\n",
              "  overflow: hidden;\n",
              "  padding: 0;\n",
              "  position: absolute;\n",
              "  width: 1px;\n",
              "}\n",
              "\n",
              "#sk-container-id-1 div.sk-dashed-wrapped {\n",
              "  border: 1px dashed var(--sklearn-color-line);\n",
              "  margin: 0 0.4em 0.5em 0.4em;\n",
              "  box-sizing: border-box;\n",
              "  padding-bottom: 0.4em;\n",
              "  background-color: var(--sklearn-color-background);\n",
              "}\n",
              "\n",
              "#sk-container-id-1 div.sk-container {\n",
              "  /* jupyter's `normalize.less` sets `[hidden] { display: none; }`\n",
              "     but bootstrap.min.css set `[hidden] { display: none !important; }`\n",
              "     so we also need the `!important` here to be able to override the\n",
              "     default hidden behavior on the sphinx rendered scikit-learn.org.\n",
              "     See: https://github.com/scikit-learn/scikit-learn/issues/21755 */\n",
              "  display: inline-block !important;\n",
              "  position: relative;\n",
              "}\n",
              "\n",
              "#sk-container-id-1 div.sk-text-repr-fallback {\n",
              "  display: none;\n",
              "}\n",
              "\n",
              "div.sk-parallel-item,\n",
              "div.sk-serial,\n",
              "div.sk-item {\n",
              "  /* draw centered vertical line to link estimators */\n",
              "  background-image: linear-gradient(var(--sklearn-color-text-on-default-background), var(--sklearn-color-text-on-default-background));\n",
              "  background-size: 2px 100%;\n",
              "  background-repeat: no-repeat;\n",
              "  background-position: center center;\n",
              "}\n",
              "\n",
              "/* Parallel-specific style estimator block */\n",
              "\n",
              "#sk-container-id-1 div.sk-parallel-item::after {\n",
              "  content: \"\";\n",
              "  width: 100%;\n",
              "  border-bottom: 2px solid var(--sklearn-color-text-on-default-background);\n",
              "  flex-grow: 1;\n",
              "}\n",
              "\n",
              "#sk-container-id-1 div.sk-parallel {\n",
              "  display: flex;\n",
              "  align-items: stretch;\n",
              "  justify-content: center;\n",
              "  background-color: var(--sklearn-color-background);\n",
              "  position: relative;\n",
              "}\n",
              "\n",
              "#sk-container-id-1 div.sk-parallel-item {\n",
              "  display: flex;\n",
              "  flex-direction: column;\n",
              "}\n",
              "\n",
              "#sk-container-id-1 div.sk-parallel-item:first-child::after {\n",
              "  align-self: flex-end;\n",
              "  width: 50%;\n",
              "}\n",
              "\n",
              "#sk-container-id-1 div.sk-parallel-item:last-child::after {\n",
              "  align-self: flex-start;\n",
              "  width: 50%;\n",
              "}\n",
              "\n",
              "#sk-container-id-1 div.sk-parallel-item:only-child::after {\n",
              "  width: 0;\n",
              "}\n",
              "\n",
              "/* Serial-specific style estimator block */\n",
              "\n",
              "#sk-container-id-1 div.sk-serial {\n",
              "  display: flex;\n",
              "  flex-direction: column;\n",
              "  align-items: center;\n",
              "  background-color: var(--sklearn-color-background);\n",
              "  padding-right: 1em;\n",
              "  padding-left: 1em;\n",
              "}\n",
              "\n",
              "\n",
              "/* Toggleable style: style used for estimator/Pipeline/ColumnTransformer box that is\n",
              "clickable and can be expanded/collapsed.\n",
              "- Pipeline and ColumnTransformer use this feature and define the default style\n",
              "- Estimators will overwrite some part of the style using the `sk-estimator` class\n",
              "*/\n",
              "\n",
              "/* Pipeline and ColumnTransformer style (default) */\n",
              "\n",
              "#sk-container-id-1 div.sk-toggleable {\n",
              "  /* Default theme specific background. It is overwritten whether we have a\n",
              "  specific estimator or a Pipeline/ColumnTransformer */\n",
              "  background-color: var(--sklearn-color-background);\n",
              "}\n",
              "\n",
              "/* Toggleable label */\n",
              "#sk-container-id-1 label.sk-toggleable__label {\n",
              "  cursor: pointer;\n",
              "  display: flex;\n",
              "  width: 100%;\n",
              "  margin-bottom: 0;\n",
              "  padding: 0.5em;\n",
              "  box-sizing: border-box;\n",
              "  text-align: center;\n",
              "  align-items: start;\n",
              "  justify-content: space-between;\n",
              "  gap: 0.5em;\n",
              "}\n",
              "\n",
              "#sk-container-id-1 label.sk-toggleable__label .caption {\n",
              "  font-size: 0.6rem;\n",
              "  font-weight: lighter;\n",
              "  color: var(--sklearn-color-text-muted);\n",
              "}\n",
              "\n",
              "#sk-container-id-1 label.sk-toggleable__label-arrow:before {\n",
              "  /* Arrow on the left of the label */\n",
              "  content: \"▸\";\n",
              "  float: left;\n",
              "  margin-right: 0.25em;\n",
              "  color: var(--sklearn-color-icon);\n",
              "}\n",
              "\n",
              "#sk-container-id-1 label.sk-toggleable__label-arrow:hover:before {\n",
              "  color: var(--sklearn-color-text);\n",
              "}\n",
              "\n",
              "/* Toggleable content - dropdown */\n",
              "\n",
              "#sk-container-id-1 div.sk-toggleable__content {\n",
              "  max-height: 0;\n",
              "  max-width: 0;\n",
              "  overflow: hidden;\n",
              "  text-align: left;\n",
              "  /* unfitted */\n",
              "  background-color: var(--sklearn-color-unfitted-level-0);\n",
              "}\n",
              "\n",
              "#sk-container-id-1 div.sk-toggleable__content.fitted {\n",
              "  /* fitted */\n",
              "  background-color: var(--sklearn-color-fitted-level-0);\n",
              "}\n",
              "\n",
              "#sk-container-id-1 div.sk-toggleable__content pre {\n",
              "  margin: 0.2em;\n",
              "  border-radius: 0.25em;\n",
              "  color: var(--sklearn-color-text);\n",
              "  /* unfitted */\n",
              "  background-color: var(--sklearn-color-unfitted-level-0);\n",
              "}\n",
              "\n",
              "#sk-container-id-1 div.sk-toggleable__content.fitted pre {\n",
              "  /* unfitted */\n",
              "  background-color: var(--sklearn-color-fitted-level-0);\n",
              "}\n",
              "\n",
              "#sk-container-id-1 input.sk-toggleable__control:checked~div.sk-toggleable__content {\n",
              "  /* Expand drop-down */\n",
              "  max-height: 200px;\n",
              "  max-width: 100%;\n",
              "  overflow: auto;\n",
              "}\n",
              "\n",
              "#sk-container-id-1 input.sk-toggleable__control:checked~label.sk-toggleable__label-arrow:before {\n",
              "  content: \"▾\";\n",
              "}\n",
              "\n",
              "/* Pipeline/ColumnTransformer-specific style */\n",
              "\n",
              "#sk-container-id-1 div.sk-label input.sk-toggleable__control:checked~label.sk-toggleable__label {\n",
              "  color: var(--sklearn-color-text);\n",
              "  background-color: var(--sklearn-color-unfitted-level-2);\n",
              "}\n",
              "\n",
              "#sk-container-id-1 div.sk-label.fitted input.sk-toggleable__control:checked~label.sk-toggleable__label {\n",
              "  background-color: var(--sklearn-color-fitted-level-2);\n",
              "}\n",
              "\n",
              "/* Estimator-specific style */\n",
              "\n",
              "/* Colorize estimator box */\n",
              "#sk-container-id-1 div.sk-estimator input.sk-toggleable__control:checked~label.sk-toggleable__label {\n",
              "  /* unfitted */\n",
              "  background-color: var(--sklearn-color-unfitted-level-2);\n",
              "}\n",
              "\n",
              "#sk-container-id-1 div.sk-estimator.fitted input.sk-toggleable__control:checked~label.sk-toggleable__label {\n",
              "  /* fitted */\n",
              "  background-color: var(--sklearn-color-fitted-level-2);\n",
              "}\n",
              "\n",
              "#sk-container-id-1 div.sk-label label.sk-toggleable__label,\n",
              "#sk-container-id-1 div.sk-label label {\n",
              "  /* The background is the default theme color */\n",
              "  color: var(--sklearn-color-text-on-default-background);\n",
              "}\n",
              "\n",
              "/* On hover, darken the color of the background */\n",
              "#sk-container-id-1 div.sk-label:hover label.sk-toggleable__label {\n",
              "  color: var(--sklearn-color-text);\n",
              "  background-color: var(--sklearn-color-unfitted-level-2);\n",
              "}\n",
              "\n",
              "/* Label box, darken color on hover, fitted */\n",
              "#sk-container-id-1 div.sk-label.fitted:hover label.sk-toggleable__label.fitted {\n",
              "  color: var(--sklearn-color-text);\n",
              "  background-color: var(--sklearn-color-fitted-level-2);\n",
              "}\n",
              "\n",
              "/* Estimator label */\n",
              "\n",
              "#sk-container-id-1 div.sk-label label {\n",
              "  font-family: monospace;\n",
              "  font-weight: bold;\n",
              "  display: inline-block;\n",
              "  line-height: 1.2em;\n",
              "}\n",
              "\n",
              "#sk-container-id-1 div.sk-label-container {\n",
              "  text-align: center;\n",
              "}\n",
              "\n",
              "/* Estimator-specific */\n",
              "#sk-container-id-1 div.sk-estimator {\n",
              "  font-family: monospace;\n",
              "  border: 1px dotted var(--sklearn-color-border-box);\n",
              "  border-radius: 0.25em;\n",
              "  box-sizing: border-box;\n",
              "  margin-bottom: 0.5em;\n",
              "  /* unfitted */\n",
              "  background-color: var(--sklearn-color-unfitted-level-0);\n",
              "}\n",
              "\n",
              "#sk-container-id-1 div.sk-estimator.fitted {\n",
              "  /* fitted */\n",
              "  background-color: var(--sklearn-color-fitted-level-0);\n",
              "}\n",
              "\n",
              "/* on hover */\n",
              "#sk-container-id-1 div.sk-estimator:hover {\n",
              "  /* unfitted */\n",
              "  background-color: var(--sklearn-color-unfitted-level-2);\n",
              "}\n",
              "\n",
              "#sk-container-id-1 div.sk-estimator.fitted:hover {\n",
              "  /* fitted */\n",
              "  background-color: var(--sklearn-color-fitted-level-2);\n",
              "}\n",
              "\n",
              "/* Specification for estimator info (e.g. \"i\" and \"?\") */\n",
              "\n",
              "/* Common style for \"i\" and \"?\" */\n",
              "\n",
              ".sk-estimator-doc-link,\n",
              "a:link.sk-estimator-doc-link,\n",
              "a:visited.sk-estimator-doc-link {\n",
              "  float: right;\n",
              "  font-size: smaller;\n",
              "  line-height: 1em;\n",
              "  font-family: monospace;\n",
              "  background-color: var(--sklearn-color-background);\n",
              "  border-radius: 1em;\n",
              "  height: 1em;\n",
              "  width: 1em;\n",
              "  text-decoration: none !important;\n",
              "  margin-left: 0.5em;\n",
              "  text-align: center;\n",
              "  /* unfitted */\n",
              "  border: var(--sklearn-color-unfitted-level-1) 1pt solid;\n",
              "  color: var(--sklearn-color-unfitted-level-1);\n",
              "}\n",
              "\n",
              ".sk-estimator-doc-link.fitted,\n",
              "a:link.sk-estimator-doc-link.fitted,\n",
              "a:visited.sk-estimator-doc-link.fitted {\n",
              "  /* fitted */\n",
              "  border: var(--sklearn-color-fitted-level-1) 1pt solid;\n",
              "  color: var(--sklearn-color-fitted-level-1);\n",
              "}\n",
              "\n",
              "/* On hover */\n",
              "div.sk-estimator:hover .sk-estimator-doc-link:hover,\n",
              ".sk-estimator-doc-link:hover,\n",
              "div.sk-label-container:hover .sk-estimator-doc-link:hover,\n",
              ".sk-estimator-doc-link:hover {\n",
              "  /* unfitted */\n",
              "  background-color: var(--sklearn-color-unfitted-level-3);\n",
              "  color: var(--sklearn-color-background);\n",
              "  text-decoration: none;\n",
              "}\n",
              "\n",
              "div.sk-estimator.fitted:hover .sk-estimator-doc-link.fitted:hover,\n",
              ".sk-estimator-doc-link.fitted:hover,\n",
              "div.sk-label-container:hover .sk-estimator-doc-link.fitted:hover,\n",
              ".sk-estimator-doc-link.fitted:hover {\n",
              "  /* fitted */\n",
              "  background-color: var(--sklearn-color-fitted-level-3);\n",
              "  color: var(--sklearn-color-background);\n",
              "  text-decoration: none;\n",
              "}\n",
              "\n",
              "/* Span, style for the box shown on hovering the info icon */\n",
              ".sk-estimator-doc-link span {\n",
              "  display: none;\n",
              "  z-index: 9999;\n",
              "  position: relative;\n",
              "  font-weight: normal;\n",
              "  right: .2ex;\n",
              "  padding: .5ex;\n",
              "  margin: .5ex;\n",
              "  width: min-content;\n",
              "  min-width: 20ex;\n",
              "  max-width: 50ex;\n",
              "  color: var(--sklearn-color-text);\n",
              "  box-shadow: 2pt 2pt 4pt #999;\n",
              "  /* unfitted */\n",
              "  background: var(--sklearn-color-unfitted-level-0);\n",
              "  border: .5pt solid var(--sklearn-color-unfitted-level-3);\n",
              "}\n",
              "\n",
              ".sk-estimator-doc-link.fitted span {\n",
              "  /* fitted */\n",
              "  background: var(--sklearn-color-fitted-level-0);\n",
              "  border: var(--sklearn-color-fitted-level-3);\n",
              "}\n",
              "\n",
              ".sk-estimator-doc-link:hover span {\n",
              "  display: block;\n",
              "}\n",
              "\n",
              "/* \"?\"-specific style due to the `<a>` HTML tag */\n",
              "\n",
              "#sk-container-id-1 a.estimator_doc_link {\n",
              "  float: right;\n",
              "  font-size: 1rem;\n",
              "  line-height: 1em;\n",
              "  font-family: monospace;\n",
              "  background-color: var(--sklearn-color-background);\n",
              "  border-radius: 1rem;\n",
              "  height: 1rem;\n",
              "  width: 1rem;\n",
              "  text-decoration: none;\n",
              "  /* unfitted */\n",
              "  color: var(--sklearn-color-unfitted-level-1);\n",
              "  border: var(--sklearn-color-unfitted-level-1) 1pt solid;\n",
              "}\n",
              "\n",
              "#sk-container-id-1 a.estimator_doc_link.fitted {\n",
              "  /* fitted */\n",
              "  border: var(--sklearn-color-fitted-level-1) 1pt solid;\n",
              "  color: var(--sklearn-color-fitted-level-1);\n",
              "}\n",
              "\n",
              "/* On hover */\n",
              "#sk-container-id-1 a.estimator_doc_link:hover {\n",
              "  /* unfitted */\n",
              "  background-color: var(--sklearn-color-unfitted-level-3);\n",
              "  color: var(--sklearn-color-background);\n",
              "  text-decoration: none;\n",
              "}\n",
              "\n",
              "#sk-container-id-1 a.estimator_doc_link.fitted:hover {\n",
              "  /* fitted */\n",
              "  background-color: var(--sklearn-color-fitted-level-3);\n",
              "}\n",
              "</style><div id=\"sk-container-id-1\" class=\"sk-top-container\"><div class=\"sk-text-repr-fallback\"><pre>GaussianNB()</pre><b>In a Jupyter environment, please rerun this cell to show the HTML representation or trust the notebook. <br />On GitHub, the HTML representation is unable to render, please try loading this page with nbviewer.org.</b></div><div class=\"sk-container\" hidden><div class=\"sk-item\"><div class=\"sk-estimator fitted sk-toggleable\"><input class=\"sk-toggleable__control sk-hidden--visually\" id=\"sk-estimator-id-1\" type=\"checkbox\" checked><label for=\"sk-estimator-id-1\" class=\"sk-toggleable__label fitted sk-toggleable__label-arrow\"><div><div>GaussianNB</div></div><div><a class=\"sk-estimator-doc-link fitted\" rel=\"noreferrer\" target=\"_blank\" href=\"https://scikit-learn.org/1.6/modules/generated/sklearn.naive_bayes.GaussianNB.html\">?<span>Documentation for GaussianNB</span></a><span class=\"sk-estimator-doc-link fitted\">i<span>Fitted</span></span></div></label><div class=\"sk-toggleable__content fitted\"><pre>GaussianNB()</pre></div> </div></div></div></div>"
            ]
          },
          "metadata": {},
          "execution_count": 12
        }
      ]
    },
    {
      "cell_type": "markdown",
      "source": [
        "Predicting the test set result"
      ],
      "metadata": {
        "id": "hdb5BLpN-5NI"
      }
    },
    {
      "cell_type": "code",
      "source": [
        "y_pred = classifier.predict(x_test)"
      ],
      "metadata": {
        "id": "Ce8L1HMT--HI"
      },
      "execution_count": null,
      "outputs": []
    },
    {
      "cell_type": "markdown",
      "source": [
        "making the confusion matrix"
      ],
      "metadata": {
        "id": "qxcQwS5y_VXo"
      }
    },
    {
      "cell_type": "code",
      "source": [
        "from sklearn.metrics import confusion_matrix\n",
        "cm = confusion_matrix(y_test, y_pred)\n",
        "print (cm)"
      ],
      "metadata": {
        "colab": {
          "base_uri": "https://localhost:8080/"
        },
        "id": "ISdCw7C3_DVk",
        "outputId": "33a2c50f-abbd-4f92-e343-f49f111cd3de"
      },
      "execution_count": null,
      "outputs": [
        {
          "output_type": "stream",
          "name": "stdout",
          "text": [
            "[[87 36]\n",
            " [56 78]]\n"
          ]
        }
      ]
    },
    {
      "cell_type": "code",
      "source": [
        "from sklearn.metrics import accuracy_score\n",
        "akurasi = accuracy_score(y_test, y_pred)\n",
        "print (\"Tingkat Akurasi : %d persen \" % (akurasi*100))"
      ],
      "metadata": {
        "colab": {
          "base_uri": "https://localhost:8080/"
        },
        "id": "o6J0ioF0_bTj",
        "outputId": "e17e6679-b599-425f-d3fb-d0cd15e8be17"
      },
      "execution_count": null,
      "outputs": [
        {
          "output_type": "stream",
          "name": "stdout",
          "text": [
            "Tingkat Akurasi : 64 persen \n"
          ]
        }
      ]
    },
    {
      "cell_type": "code",
      "source": [
        "from matplotlib.colors import ListedColormap\n",
        "x_set, y_set = x_train, y_train\n",
        "x1, x2 = np.meshgrid(np.arange(start=x_set[:, 0].min() - 1, stop=x_set[:, 0].max() + 1, step=0.01),\n",
        "                     np.arange(start=x_set[:, 1].min() - 1, stop=x_set[:, 1].max() + 1, step=0.01))\n",
        "plt.contourf(x1, x2, classifier.predict(np.array([x1.ravel(), x2.ravel()]).T).reshape(x1.shape),\n",
        "             alpha=0.75, cmap=ListedColormap(('red', 'green')))\n",
        "plt.xlim(x1.min(), x1.max())\n",
        "plt.ylim(x2.min(), x2.max())\n",
        "for i, j in enumerate(np.unique(y_set)):\n",
        "    plt.scatter(x_set[y_set == j, 0], x_set[y_set == j, 1],\n",
        "                c=ListedColormap(('red', 'green'))(i), label=j)\n",
        "plt.title('Klasifikasi Data dengan Naive Bayes (Data Training)')\n",
        "plt.xlabel('Umur')\n",
        "plt.ylabel('Cholesterol')\n",
        "plt.legend()\n",
        "plt.show()"
      ],
      "metadata": {
        "colab": {
          "base_uri": "https://localhost:8080/",
          "height": 527
        },
        "id": "_Mpk65g2_d9T",
        "outputId": "2f198396-8ff3-4996-b18e-51422a8ec035"
      },
      "execution_count": null,
      "outputs": [
        {
          "output_type": "stream",
          "name": "stderr",
          "text": [
            "<ipython-input-16-17cfee0454be>:10: UserWarning: *c* argument looks like a single numeric RGB or RGBA sequence, which should be avoided as value-mapping will have precedence in case its length matches with *x* & *y*.  Please use the *color* keyword-argument or provide a 2D array with a single row if you intend to specify the same RGB or RGBA value for all points.\n",
            "  plt.scatter(x_set[y_set == j, 0], x_set[y_set == j, 1],\n"
          ]
        },
        {
          "output_type": "display_data",
          "data": {
            "text/plain": [
              "<Figure size 640x480 with 1 Axes>"
            ],
            "image/png": "[encoded data removed]"
          },
          "metadata": {}
        }
      ]
    },
    {
      "cell_type": "markdown",
      "source": [
        " menstandarkan data (scaling)"
      ],
      "metadata": {
        "id": "C8oh-yXt1YvZ"
      }
    },
    {
      "cell_type": "code",
      "source": [
        "from sklearn.preprocessing import StandardScaler\n",
        "sc_x = StandardScaler()\n",
        "x_train = sc_x.fit_transform(x_train)\n",
        "x_test = sc_x.transform(x_test)"
      ],
      "metadata": {
        "id": "CI2fdGbs_kG7"
      },
      "execution_count": null,
      "outputs": []
    },
    {
      "cell_type": "code",
      "source": [
        "from matplotlib.colors import ListedColormap\n",
        "\n",
        "# Gunakan data test yang sudah discaling\n",
        "x_set, y_set = x_test, y_test\n",
        "\n",
        "# Membuat meshgrid\n",
        "x1, x2 = np.meshgrid(np.arange(start = x_set[:, 0].min() - 1,\n",
        "                               stop = x_set[:, 0].max() + 1, step = 0.01),\n",
        "                     np.arange(start = x_set[:, 1].min() - 1,\n",
        "                               stop = x_set[:, 1].max() + 1, step = 0.01))\n",
        "\n",
        "# Buat decision boundary dari model\n",
        "plt.contourf(x1, x2, classifier.predict(np.array([x1.ravel(), x2.ravel()]).T).reshape(x1.shape),\n",
        "             alpha = 0.75, cmap = ListedColormap(('red', 'green')))\n",
        "\n",
        "# Set batas sumbu\n",
        "plt.xlim(x1.min(), x1.max())\n",
        "plt.ylim(x2.min(), x2.max())\n",
        "\n",
        "# Scatter plot untuk data asli\n",
        "for i, j in enumerate(np.unique(y_set)):\n",
        "    plt.scatter(x_set[y_set == j, 0], x_set[y_set == j, 1],\n",
        "                c = ListedColormap(('red', 'green'))(i), label = j)\n",
        "\n",
        "# Label dan judul grafik\n",
        "plt.title('Klasifikasi Data dengan Naive Bayes (Data Testing)')\n",
        "plt.xlabel('Age (scaled)')\n",
        "plt.ylabel('Cholesterol (scaled)')\n",
        "plt.legend()\n",
        "plt.show()"
      ],
      "metadata": {
        "colab": {
          "base_uri": "https://localhost:8080/",
          "height": 527
        },
        "id": "qwPZ121y_m2G",
        "outputId": "0b4fe7de-d952-4029-af98-63e0914ca73a"
      },
      "execution_count": null,
      "outputs": [
        {
          "output_type": "stream",
          "name": "stderr",
          "text": [
            "<ipython-input-18-2b88b639abcb>:22: UserWarning: *c* argument looks like a single numeric RGB or RGBA sequence, which should be avoided as value-mapping will have precedence in case its length matches with *x* & *y*.  Please use the *color* keyword-argument or provide a 2D array with a single row if you intend to specify the same RGB or RGBA value for all points.\n",
            "  plt.scatter(x_set[y_set == j, 0], x_set[y_set == j, 1],\n"
          ]
        },
        {
          "output_type": "display_data",
          "data": {
            "text/plain": [
              "<Figure size 640x480 with 1 Axes>"
            ],
            "image/png": "[encoded data removed]"
          },
          "metadata": {}
        }
      ]
    }
  ]
}