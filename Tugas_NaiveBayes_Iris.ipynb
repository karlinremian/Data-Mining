{
  "nbformat": 4,
  "nbformat_minor": 0,
  "metadata": {
    "colab": {
      "provenance": [],
      "authorship_tag": "ABX9TyNdmYFIjnn7O98oNY9HQM30",
      "include_colab_link": true
    },
    "kernelspec": {
      "name": "python3",
      "display_name": "Python 3"
    },
    "language_info": {
      "name": "python"
    }
  },
  "cells": [
    {
      "cell_type": "markdown",
      "metadata": {
        "id": "view-in-github",
        "colab_type": "text"
      },
      "source": [
        "<a href=\"https://colab.research.google.com/github/karlinremian/Data-Mining/blob/main/Tugas_NaiveBayes_Iris.ipynb\" target=\"_parent\"><img src=\"https://colab.research.google.com/assets/colab-badge.svg\" alt=\"Open In Colab\"/></a>"
      ]
    },
    {
      "cell_type": "markdown",
      "source": [
        "- Nama: Karolina Arisna Remian\n",
        "- Nim: 202201018\n",
        "- Kelas: SI (A)"
      ],
      "metadata": {
        "id": "CKryg7hpCyZ-"
      }
    },
    {
      "cell_type": "markdown",
      "source": [
        "- Naive Bayes menggunakan dataset Iris.csv:"
      ],
      "metadata": {
        "id": "T0W6fUP1C5xZ"
      }
    },
    {
      "cell_type": "markdown",
      "source": [
        "import Library"
      ],
      "metadata": {
        "id": "ZfyOoq-9BKO7"
      }
    },
    {
      "cell_type": "code",
      "execution_count": null,
      "metadata": {
        "id": "kUJvex3h4vm_"
      },
      "outputs": [],
      "source": [
        "import numpy as np\n",
        "import matplotlib.pyplot as plt\n",
        "import pandas as pd"
      ]
    },
    {
      "cell_type": "markdown",
      "source": [
        "Import Dataset"
      ],
      "metadata": {
        "id": "qQg8hp9aBPBk"
      }
    },
    {
      "cell_type": "code",
      "source": [
        "dataset = pd.read_csv ('Iris.csv')  # memanggil dataset\n",
        "x = dataset.iloc[:,[1,3]].values   # membagi nilai x untuk ambil yang berisi kolom\n",
        "y = dataset.iloc[:, -1].values   # membagi nilai y dari kolom terakir"
      ],
      "metadata": {
        "id": "Z4VzMxCw45v7"
      },
      "execution_count": null,
      "outputs": []
    },
    {
      "cell_type": "code",
      "source": [
        "print (x)"
      ],
      "metadata": {
        "colab": {
          "base_uri": "https://localhost:8080/"
        },
        "id": "c0OWX3oj5I01",
        "outputId": "c4173d9c-c261-4389-cdb2-71e55dd86980"
      },
      "execution_count": null,
      "outputs": [
        {
          "output_type": "stream",
          "name": "stdout",
          "text": [
            "[[5.1 1.4]\n",
            " [4.9 1.4]\n",
            " [4.7 1.3]\n",
            " [4.6 1.5]\n",
            " [5.  1.4]\n",
            " [5.4 1.7]\n",
            " [4.6 1.4]\n",
            " [5.  1.5]\n",
            " [4.4 1.4]\n",
            " [4.9 1.5]\n",
            " [5.4 1.5]\n",
            " [4.8 1.6]\n",
            " [4.8 1.4]\n",
            " [4.3 1.1]\n",
            " [5.8 1.2]\n",
            " [5.7 1.5]\n",
            " [5.4 1.3]\n",
            " [5.1 1.4]\n",
            " [5.7 1.7]\n",
            " [5.1 1.5]\n",
            " [5.4 1.7]\n",
            " [5.1 1.5]\n",
            " [4.6 1. ]\n",
            " [5.1 1.7]\n",
            " [4.8 1.9]\n",
            " [5.  1.6]\n",
            " [5.  1.6]\n",
            " [5.2 1.5]\n",
            " [5.2 1.4]\n",
            " [4.7 1.6]\n",
            " [4.8 1.6]\n",
            " [5.4 1.5]\n",
            " [5.2 1.5]\n",
            " [5.5 1.4]\n",
            " [4.9 1.5]\n",
            " [5.  1.2]\n",
            " [5.5 1.3]\n",
            " [4.9 1.5]\n",
            " [4.4 1.3]\n",
            " [5.1 1.5]\n",
            " [5.  1.3]\n",
            " [4.5 1.3]\n",
            " [4.4 1.3]\n",
            " [5.  1.6]\n",
            " [5.1 1.9]\n",
            " [4.8 1.4]\n",
            " [5.1 1.6]\n",
            " [4.6 1.4]\n",
            " [5.3 1.5]\n",
            " [5.  1.4]\n",
            " [7.  4.7]\n",
            " [6.4 4.5]\n",
            " [6.9 4.9]\n",
            " [5.5 4. ]\n",
            " [6.5 4.6]\n",
            " [5.7 4.5]\n",
            " [6.3 4.7]\n",
            " [4.9 3.3]\n",
            " [6.6 4.6]\n",
            " [5.2 3.9]\n",
            " [5.  3.5]\n",
            " [5.9 4.2]\n",
            " [6.  4. ]\n",
            " [6.1 4.7]\n",
            " [5.6 3.6]\n",
            " [6.7 4.4]\n",
            " [5.6 4.5]\n",
            " [5.8 4.1]\n",
            " [6.2 4.5]\n",
            " [5.6 3.9]\n",
            " [5.9 4.8]\n",
            " [6.1 4. ]\n",
            " [6.3 4.9]\n",
            " [6.1 4.7]\n",
            " [6.4 4.3]\n",
            " [6.6 4.4]\n",
            " [6.8 4.8]\n",
            " [6.7 5. ]\n",
            " [6.  4.5]\n",
            " [5.7 3.5]\n",
            " [5.5 3.8]\n",
            " [5.5 3.7]\n",
            " [5.8 3.9]\n",
            " [6.  5.1]\n",
            " [5.4 4.5]\n",
            " [6.  4.5]\n",
            " [6.7 4.7]\n",
            " [6.3 4.4]\n",
            " [5.6 4.1]\n",
            " [5.5 4. ]\n",
            " [5.5 4.4]\n",
            " [6.1 4.6]\n",
            " [5.8 4. ]\n",
            " [5.  3.3]\n",
            " [5.6 4.2]\n",
            " [5.7 4.2]\n",
            " [5.7 4.2]\n",
            " [6.2 4.3]\n",
            " [5.1 3. ]\n",
            " [5.7 4.1]\n",
            " [6.3 6. ]\n",
            " [5.8 5.1]\n",
            " [7.1 5.9]\n",
            " [6.3 5.6]\n",
            " [6.5 5.8]\n",
            " [7.6 6.6]\n",
            " [4.9 4.5]\n",
            " [7.3 6.3]\n",
            " [6.7 5.8]\n",
            " [7.2 6.1]\n",
            " [6.5 5.1]\n",
            " [6.4 5.3]\n",
            " [6.8 5.5]\n",
            " [5.7 5. ]\n",
            " [5.8 5.1]\n",
            " [6.4 5.3]\n",
            " [6.5 5.5]\n",
            " [7.7 6.7]\n",
            " [7.7 6.9]\n",
            " [6.  5. ]\n",
            " [6.9 5.7]\n",
            " [5.6 4.9]\n",
            " [7.7 6.7]\n",
            " [6.3 4.9]\n",
            " [6.7 5.7]\n",
            " [7.2 6. ]\n",
            " [6.2 4.8]\n",
            " [6.1 4.9]\n",
            " [6.4 5.6]\n",
            " [7.2 5.8]\n",
            " [7.4 6.1]\n",
            " [7.9 6.4]\n",
            " [6.4 5.6]\n",
            " [6.3 5.1]\n",
            " [6.1 5.6]\n",
            " [7.7 6.1]\n",
            " [6.3 5.6]\n",
            " [6.4 5.5]\n",
            " [6.  4.8]\n",
            " [6.9 5.4]\n",
            " [6.7 5.6]\n",
            " [6.9 5.1]\n",
            " [5.8 5.1]\n",
            " [6.8 5.9]\n",
            " [6.7 5.7]\n",
            " [6.7 5.2]\n",
            " [6.3 5. ]\n",
            " [6.5 5.2]\n",
            " [6.2 5.4]\n",
            " [5.9 5.1]]\n"
          ]
        }
      ]
    },
    {
      "cell_type": "code",
      "source": [
        "print (y)"
      ],
      "metadata": {
        "colab": {
          "base_uri": "https://localhost:8080/"
        },
        "id": "HrJV-ZxE5LnJ",
        "outputId": "21dd9402-2537-4d71-ca84-70ab9f52f860"
      },
      "execution_count": null,
      "outputs": [
        {
          "output_type": "stream",
          "name": "stdout",
          "text": [
            "[0 0 0 0 0 0 0 0 0 0 0 0 0 0 0 0 0 0 0 0 0 0 0 0 0 0 0 0 0 0 0 0 0 0 0 0 0\n",
            " 0 0 0 0 0 0 0 0 0 0 0 0 0 1 1 1 1 1 1 1 1 1 1 1 1 1 1 1 1 1 1 1 1 1 1 1 1\n",
            " 1 1 1 1 1 1 1 1 1 1 1 1 1 1 1 1 1 1 1 1 1 1 1 1 1 1 2 2 2 2 2 2 2 2 2 2 2\n",
            " 2 2 2 2 2 2 2 2 2 2 2 2 2 2 2 2 2 2 2 2 2 2 2 2 2 2 2 2 2 2 2 2 2 2 2 2 2\n",
            " 2 2]\n"
          ]
        }
      ]
    },
    {
      "cell_type": "markdown",
      "source": [
        "Ubah label target y dari string menjadi angka, misal menggunakan LabelEncoder dari scikit-learn supaya kelasnya menjadi 0,1,2.\n",
        "Setosa → 0\n",
        "Versicolor → 1\n",
        "Virginica → 2"
      ],
      "metadata": {
        "id": "3TnTOz6KBmye"
      }
    },
    {
      "cell_type": "code",
      "source": [
        "from sklearn.preprocessing import LabelEncoder\n",
        "le = LabelEncoder()\n",
        "y = le.fit_transform(y)"
      ],
      "metadata": {
        "id": "LmieZCZ-_4Ye"
      },
      "execution_count": null,
      "outputs": []
    },
    {
      "cell_type": "markdown",
      "source": [
        "Spilt Dataset"
      ],
      "metadata": {
        "id": "6jOK4k5NBwCt"
      }
    },
    {
      "cell_type": "code",
      "source": [
        "from sklearn.model_selection import train_test_split\n",
        "x_train, x_test, y_train, y_test = train_test_split(x, y, test_size=0.25, random_state=0)"
      ],
      "metadata": {
        "id": "QteorvDa5O46"
      },
      "execution_count": null,
      "outputs": []
    },
    {
      "cell_type": "markdown",
      "source": [
        "Feature Scaling"
      ],
      "metadata": {
        "id": "-LLvoFCZCC_L"
      }
    },
    {
      "cell_type": "code",
      "source": [
        "from sklearn.preprocessing import StandardScaler\n",
        "sc_x = StandardScaler()\n",
        "x_train = sc_x.fit_transform(x_train)\n",
        "x_test = sc_x.transform(x_test)"
      ],
      "metadata": {
        "id": "-UF_3RL55RVN"
      },
      "execution_count": null,
      "outputs": []
    },
    {
      "cell_type": "code",
      "source": [
        "print (x_train)"
      ],
      "metadata": {
        "colab": {
          "base_uri": "https://localhost:8080/"
        },
        "id": "wQ-qdYhQ5YdF",
        "outputId": "5d980bd8-aa2b-478c-ed21-6777a8805745"
      },
      "execution_count": null,
      "outputs": [
        {
          "output_type": "stream",
          "name": "stdout",
          "text": [
            "[[ 1.54399532e-02  2.25126850e-01]\n",
            " [-9.98450310e-02  1.13559562e-01]\n",
            " [ 1.05300481e+00  9.50314227e-01]\n",
            " [-1.36797986e+00 -1.39259884e+00]\n",
            " [ 1.16828980e+00  7.27179649e-01]\n",
            " [-1.02212490e+00 -1.22524790e+00]\n",
            " [-5.60984968e-01 -1.28103155e+00]\n",
            " [-1.02212490e+00 -1.65358660e-01]\n",
            " [ 7.07149859e-01  9.50314227e-01]\n",
            " [ 9.37719827e-01  1.06188152e+00]\n",
            " [ 1.30724937e-01  6.71396005e-01]\n",
            " [ 9.37719827e-01  1.11766516e+00]\n",
            " [-3.30414999e-01  5.77759173e-02]\n",
            " [ 2.09056967e+00  1.28501609e+00]\n",
            " [ 4.76579890e-01  5.04045072e-01]\n",
            " [-4.45699984e-01  1.99227301e-03]\n",
            " [ 4.76579890e-01  6.15612361e-01]\n",
            " [ 4.76579890e-01  7.27179649e-01]\n",
            " [-1.13740989e+00  3.92477783e-01]\n",
            " [ 4.76579890e-01  6.71396005e-01]\n",
            " [ 1.28357478e+00  5.04045072e-01]\n",
            " [ 7.07149859e-01  7.82963294e-01]\n",
            " [ 1.30724937e-01  3.92477783e-01]\n",
            " [-1.25269487e+00 -1.22524790e+00]\n",
            " [-9.98450310e-02  7.27179649e-01]\n",
            " [-3.30414999e-01  2.25126850e-01]\n",
            " [-3.30414999e-01 -1.09575016e-01]\n",
            " [-4.45699984e-01  1.13559562e-01]\n",
            " [ 2.46009922e-01  4.48261428e-01]\n",
            " [ 1.51414475e+00  1.22923245e+00]\n",
            " [-6.76269952e-01 -1.28103155e+00]\n",
            " [-1.82911979e+00 -1.50416612e+00]\n",
            " [ 5.91864874e-01  8.38746938e-01]\n",
            " [-2.15130015e-01  2.25126850e-01]\n",
            " [-5.60984968e-01 -1.16946426e+00]\n",
            " [-2.15130015e-01 -1.28103155e+00]\n",
            " [ 1.16828980e+00  6.15612361e-01]\n",
            " [-1.48326484e+00 -1.28103155e+00]\n",
            " [ 1.54399532e-02  7.27179649e-01]\n",
            " [-9.06839920e-01 -4.44276882e-01]\n",
            " [-1.48326484e+00 -1.33681519e+00]\n",
            " [ 3.61294906e-01  3.92477783e-01]\n",
            " [ 1.51414475e+00  1.28501609e+00]\n",
            " [-2.15130015e-01  2.25126850e-01]\n",
            " [-1.25269487e+00 -1.33681519e+00]\n",
            " [ 1.39885976e+00  1.17344880e+00]\n",
            " [ 1.16828980e+00  1.06188152e+00]\n",
            " [ 7.07149859e-01  1.11766516e+00]\n",
            " [ 5.91864874e-01  1.00609787e+00]\n",
            " [-9.06839920e-01 -1.22524790e+00]\n",
            " [-1.25269487e+00 -1.22524790e+00]\n",
            " [ 7.07149859e-01  7.27179649e-01]\n",
            " [ 9.37719827e-01  1.06188152e+00]\n",
            " [-1.59854983e+00 -1.39259884e+00]\n",
            " [ 3.61294906e-01  8.94530582e-01]\n",
            " [-1.13740989e+00 -1.33681519e+00]\n",
            " [-2.15130015e-01  6.71396005e-01]\n",
            " [ 1.16828980e+00  8.94530582e-01]\n",
            " [-1.71383481e+00 -1.39259884e+00]\n",
            " [-1.02212490e+00 -1.33681519e+00]\n",
            " [ 1.51414475e+00  1.11766516e+00]\n",
            " [-9.06839920e-01 -1.33681519e+00]\n",
            " [-1.71383481e+00 -1.39259884e+00]\n",
            " [-5.60984968e-01 -1.16946426e+00]\n",
            " [-4.45699984e-01  1.13559562e-01]\n",
            " [ 1.05300481e+00  1.17344880e+00]\n",
            " [ 1.97528468e+00  1.56393431e+00]\n",
            " [-9.06839920e-01 -1.33681519e+00]\n",
            " [-1.13740989e+00 -1.28103155e+00]\n",
            " [-7.91554936e-01 -1.33681519e+00]\n",
            " [-2.15130015e-01  3.92477783e-01]\n",
            " [ 8.22434843e-01  3.36694139e-01]\n",
            " [-1.02212490e+00 -1.44838248e+00]\n",
            " [-9.06839920e-01 -1.16946426e+00]\n",
            " [ 5.91864874e-01  2.80910495e-01]\n",
            " [-5.60984968e-01 -1.28103155e+00]\n",
            " [ 2.09056967e+00  1.73128525e+00]\n",
            " [-1.13740989e+00 -2.76925949e-01]\n",
            " [ 2.32113964e+00  1.45236703e+00]\n",
            " [ 9.37719827e-01  3.36694139e-01]\n",
            " [-7.91554936e-01 -1.28103155e+00]\n",
            " [ 1.30724937e-01  5.59828716e-01]\n",
            " [-9.98450310e-02 -1.44838248e+00]\n",
            " [ 2.09056967e+00  1.61971796e+00]\n",
            " [-9.06839920e-01 -1.28103155e+00]\n",
            " [-1.36797986e+00 -1.22524790e+00]\n",
            " [ 1.74471472e+00  1.28501609e+00]\n",
            " [-1.02212490e+00 -1.33681519e+00]\n",
            " [ 4.76579890e-01  1.00609787e+00]\n",
            " [-2.15130015e-01  1.69343206e-01]\n",
            " [-9.98450310e-02  5.77759173e-02]\n",
            " [-2.15130015e-01 -1.65358660e-01]\n",
            " [ 5.91864874e-01  8.38746938e-01]\n",
            " [ 9.37719827e-01  7.82963294e-01]\n",
            " [ 4.76579890e-01  6.15612361e-01]\n",
            " [ 9.37719827e-01  6.71396005e-01]\n",
            " [-1.02212490e+00 -1.22524790e+00]\n",
            " [-4.45699984e-01 -5.37913713e-02]\n",
            " [ 9.37719827e-01  1.00609787e+00]\n",
            " [-9.98450310e-02  7.27179649e-01]\n",
            " [-9.06839920e-01 -1.28103155e+00]\n",
            " [ 8.22434843e-01  4.48261428e-01]\n",
            " [-3.30414999e-01  1.69343206e-01]\n",
            " [ 1.54399532e-02  5.59828716e-01]\n",
            " [ 4.76579890e-01  3.36694139e-01]\n",
            " [-4.45699984e-01 -1.39259884e+00]\n",
            " [-9.06839920e-01 -1.28103155e+00]\n",
            " [-1.13740989e+00 -1.28103155e+00]\n",
            " [ 4.76579890e-01  1.00609787e+00]\n",
            " [-9.98450310e-02  1.69343206e-01]\n",
            " [ 2.09056967e+00  1.61971796e+00]\n",
            " [-1.48326484e+00 -1.33681519e+00]]\n"
          ]
        }
      ]
    },
    {
      "cell_type": "code",
      "source": [
        "print (x_test)"
      ],
      "metadata": {
        "colab": {
          "base_uri": "https://localhost:8080/"
        },
        "id": "o7WXYx0a8HgM",
        "outputId": "579678a6-55b9-4c76-c513-77c2c4463066"
      },
      "execution_count": null,
      "outputs": [
        {
          "output_type": "stream",
          "name": "stdout",
          "text": [
            "[[-0.09984503  0.72717965]\n",
            " [ 0.13072494  0.11355956]\n",
            " [-0.44569998 -1.33681519]\n",
            " [ 1.62942973  1.39658338]\n",
            " [-1.0221249  -1.28103155]\n",
            " [ 0.47657989  1.22923245]\n",
            " [-1.0221249  -1.39259884]\n",
            " [ 0.93771983  0.50404507]\n",
            " [ 1.05300481  0.55982872]\n",
            " [ 0.24600992  0.11355956]\n",
            " [ 0.24600992  1.00609787]\n",
            " [ 0.59186487  0.39247778]\n",
            " [ 0.24600992  0.50404507]\n",
            " [ 0.70714986  0.44826143]\n",
            " [ 0.24600992  0.50404507]\n",
            " [-1.13740989 -1.28103155]\n",
            " [ 0.13072494  0.39247778]\n",
            " [-0.44569998  0.33669414]\n",
            " [-1.25269487 -1.33681519]\n",
            " [-0.56098497 -1.39259884]\n",
            " [-0.330415    0.61561236]\n",
            " [-0.330415    0.39247778]\n",
            " [-1.25269487 -1.05789697]\n",
            " [-1.71383481 -1.33681519]\n",
            " [ 0.36129491  0.55982872]\n",
            " [-1.48326484 -1.55994977]\n",
            " [-0.90683992 -1.05789697]\n",
            " [ 0.36129491  0.28091049]\n",
            " [-1.0221249  -0.27692595]\n",
            " [-1.0221249  -1.2252479 ]\n",
            " [ 0.59186487  0.95031423]\n",
            " [-0.56098497  0.39247778]\n",
            " [-0.79155494 -1.28103155]\n",
            " [ 0.24600992  0.61561236]\n",
            " [ 0.59186487  1.00609787]\n",
            " [-0.79155494  0.05777592]\n",
            " [-0.21513002 -1.16946426]\n",
            " [ 0.13072494  0.72717965]]\n"
          ]
        }
      ]
    },
    {
      "cell_type": "code",
      "source": [
        "print (y_train)"
      ],
      "metadata": {
        "colab": {
          "base_uri": "https://localhost:8080/"
        },
        "id": "CehcXACj8M1k",
        "outputId": "f482d3cd-5c28-4ecd-c8ca-b838425577eb"
      },
      "execution_count": null,
      "outputs": [
        {
          "output_type": "stream",
          "name": "stdout",
          "text": [
            "[1 1 2 0 2 0 0 1 2 2 2 2 1 2 1 1 2 2 2 2 1 2 1 0 2 1 1 1 1 2 0 0 2 1 0 0 1\n",
            " 0 2 1 0 1 2 1 0 2 2 2 2 0 0 2 2 0 2 0 2 2 0 0 2 0 0 0 1 2 2 0 0 0 1 1 0 0\n",
            " 1 0 2 1 2 1 0 2 0 2 0 0 2 0 2 1 1 1 2 2 1 1 0 1 2 2 0 1 1 1 1 0 0 0 2 1 2\n",
            " 0]\n"
          ]
        }
      ]
    },
    {
      "cell_type": "code",
      "source": [
        "print (y_test)"
      ],
      "metadata": {
        "colab": {
          "base_uri": "https://localhost:8080/"
        },
        "id": "y5eT8bV_5blT",
        "outputId": "87714b0b-c3c8-4309-bcb6-caedef32f1e5"
      },
      "execution_count": null,
      "outputs": [
        {
          "output_type": "stream",
          "name": "stdout",
          "text": [
            "[2 1 0 2 0 2 0 1 1 1 2 1 1 1 1 0 1 1 0 0 2 1 0 0 2 0 0 1 1 0 2 1 0 2 2 1 0\n",
            " 1]\n"
          ]
        }
      ]
    },
    {
      "cell_type": "markdown",
      "source": [
        "latih model naive_bayes dengan data training"
      ],
      "metadata": {
        "id": "nKaqMix6CSyz"
      }
    },
    {
      "cell_type": "code",
      "source": [
        "from sklearn.naive_bayes import GaussianNB\n",
        "classifier = GaussianNB()\n",
        "classifier.fit(x_train, y_train)"
      ],
      "metadata": {
        "colab": {
          "base_uri": "https://localhost:8080/",
          "height": 80
        },
        "id": "UbbMwvGV5cso",
        "outputId": "09c014fd-a7f2-4426-843f-82edc2819367"
      },
      "execution_count": null,
      "outputs": [
        {
          "output_type": "execute_result",
          "data": {
            "text/plain": [
              "GaussianNB()"
            ],
            "text/html": [
              "<style>#sk-container-id-6 {\n",
              "  /* Definition of color scheme common for light and dark mode */\n",
              "  --sklearn-color-text: #000;\n",
              "  --sklearn-color-text-muted: #666;\n",
              "  --sklearn-color-line: gray;\n",
              "  /* Definition of color scheme for unfitted estimators */\n",
              "  --sklearn-color-unfitted-level-0: #fff5e6;\n",
              "  --sklearn-color-unfitted-level-1: #f6e4d2;\n",
              "  --sklearn-color-unfitted-level-2: #ffe0b3;\n",
              "  --sklearn-color-unfitted-level-3: chocolate;\n",
              "  /* Definition of color scheme for fitted estimators */\n",
              "  --sklearn-color-fitted-level-0: #f0f8ff;\n",
              "  --sklearn-color-fitted-level-1: #d4ebff;\n",
              "  --sklearn-color-fitted-level-2: #b3dbfd;\n",
              "  --sklearn-color-fitted-level-3: cornflowerblue;\n",
              "\n",
              "  /* Specific color for light theme */\n",
              "  --sklearn-color-text-on-default-background: var(--sg-text-color, var(--theme-code-foreground, var(--jp-content-font-color1, black)));\n",
              "  --sklearn-color-background: var(--sg-background-color, var(--theme-background, var(--jp-layout-color0, white)));\n",
              "  --sklearn-color-border-box: var(--sg-text-color, var(--theme-code-foreground, var(--jp-content-font-color1, black)));\n",
              "  --sklearn-color-icon: #696969;\n",
              "\n",
              "  @media (prefers-color-scheme: dark) {\n",
              "    /* Redefinition of color scheme for dark theme */\n",
              "    --sklearn-color-text-on-default-background: var(--sg-text-color, var(--theme-code-foreground, var(--jp-content-font-color1, white)));\n",
              "    --sklearn-color-background: var(--sg-background-color, var(--theme-background, var(--jp-layout-color0, #111)));\n",
              "    --sklearn-color-border-box: var(--sg-text-color, var(--theme-code-foreground, var(--jp-content-font-color1, white)));\n",
              "    --sklearn-color-icon: #878787;\n",
              "  }\n",
              "}\n",
              "\n",
              "#sk-container-id-6 {\n",
              "  color: var(--sklearn-color-text);\n",
              "}\n",
              "\n",
              "#sk-container-id-6 pre {\n",
              "  padding: 0;\n",
              "}\n",
              "\n",
              "#sk-container-id-6 input.sk-hidden--visually {\n",
              "  border: 0;\n",
              "  clip: rect(1px 1px 1px 1px);\n",
              "  clip: rect(1px, 1px, 1px, 1px);\n",
              "  height: 1px;\n",
              "  margin: -1px;\n",
              "  overflow: hidden;\n",
              "  padding: 0;\n",
              "  position: absolute;\n",
              "  width: 1px;\n",
              "}\n",
              "\n",
              "#sk-container-id-6 div.sk-dashed-wrapped {\n",
              "  border: 1px dashed var(--sklearn-color-line);\n",
              "  margin: 0 0.4em 0.5em 0.4em;\n",
              "  box-sizing: border-box;\n",
              "  padding-bottom: 0.4em;\n",
              "  background-color: var(--sklearn-color-background);\n",
              "}\n",
              "\n",
              "#sk-container-id-6 div.sk-container {\n",
              "  /* jupyter's `normalize.less` sets `[hidden] { display: none; }`\n",
              "     but bootstrap.min.css set `[hidden] { display: none !important; }`\n",
              "     so we also need the `!important` here to be able to override the\n",
              "     default hidden behavior on the sphinx rendered scikit-learn.org.\n",
              "     See: https://github.com/scikit-learn/scikit-learn/issues/21755 */\n",
              "  display: inline-block !important;\n",
              "  position: relative;\n",
              "}\n",
              "\n",
              "#sk-container-id-6 div.sk-text-repr-fallback {\n",
              "  display: none;\n",
              "}\n",
              "\n",
              "div.sk-parallel-item,\n",
              "div.sk-serial,\n",
              "div.sk-item {\n",
              "  /* draw centered vertical line to link estimators */\n",
              "  background-image: linear-gradient(var(--sklearn-color-text-on-default-background), var(--sklearn-color-text-on-default-background));\n",
              "  background-size: 2px 100%;\n",
              "  background-repeat: no-repeat;\n",
              "  background-position: center center;\n",
              "}\n",
              "\n",
              "/* Parallel-specific style estimator block */\n",
              "\n",
              "#sk-container-id-6 div.sk-parallel-item::after {\n",
              "  content: \"\";\n",
              "  width: 100%;\n",
              "  border-bottom: 2px solid var(--sklearn-color-text-on-default-background);\n",
              "  flex-grow: 1;\n",
              "}\n",
              "\n",
              "#sk-container-id-6 div.sk-parallel {\n",
              "  display: flex;\n",
              "  align-items: stretch;\n",
              "  justify-content: center;\n",
              "  background-color: var(--sklearn-color-background);\n",
              "  position: relative;\n",
              "}\n",
              "\n",
              "#sk-container-id-6 div.sk-parallel-item {\n",
              "  display: flex;\n",
              "  flex-direction: column;\n",
              "}\n",
              "\n",
              "#sk-container-id-6 div.sk-parallel-item:first-child::after {\n",
              "  align-self: flex-end;\n",
              "  width: 50%;\n",
              "}\n",
              "\n",
              "#sk-container-id-6 div.sk-parallel-item:last-child::after {\n",
              "  align-self: flex-start;\n",
              "  width: 50%;\n",
              "}\n",
              "\n",
              "#sk-container-id-6 div.sk-parallel-item:only-child::after {\n",
              "  width: 0;\n",
              "}\n",
              "\n",
              "/* Serial-specific style estimator block */\n",
              "\n",
              "#sk-container-id-6 div.sk-serial {\n",
              "  display: flex;\n",
              "  flex-direction: column;\n",
              "  align-items: center;\n",
              "  background-color: var(--sklearn-color-background);\n",
              "  padding-right: 1em;\n",
              "  padding-left: 1em;\n",
              "}\n",
              "\n",
              "\n",
              "/* Toggleable style: style used for estimator/Pipeline/ColumnTransformer box that is\n",
              "clickable and can be expanded/collapsed.\n",
              "- Pipeline and ColumnTransformer use this feature and define the default style\n",
              "- Estimators will overwrite some part of the style using the `sk-estimator` class\n",
              "*/\n",
              "\n",
              "/* Pipeline and ColumnTransformer style (default) */\n",
              "\n",
              "#sk-container-id-6 div.sk-toggleable {\n",
              "  /* Default theme specific background. It is overwritten whether we have a\n",
              "  specific estimator or a Pipeline/ColumnTransformer */\n",
              "  background-color: var(--sklearn-color-background);\n",
              "}\n",
              "\n",
              "/* Toggleable label */\n",
              "#sk-container-id-6 label.sk-toggleable__label {\n",
              "  cursor: pointer;\n",
              "  display: flex;\n",
              "  width: 100%;\n",
              "  margin-bottom: 0;\n",
              "  padding: 0.5em;\n",
              "  box-sizing: border-box;\n",
              "  text-align: center;\n",
              "  align-items: start;\n",
              "  justify-content: space-between;\n",
              "  gap: 0.5em;\n",
              "}\n",
              "\n",
              "#sk-container-id-6 label.sk-toggleable__label .caption {\n",
              "  font-size: 0.6rem;\n",
              "  font-weight: lighter;\n",
              "  color: var(--sklearn-color-text-muted);\n",
              "}\n",
              "\n",
              "#sk-container-id-6 label.sk-toggleable__label-arrow:before {\n",
              "  /* Arrow on the left of the label */\n",
              "  content: \"▸\";\n",
              "  float: left;\n",
              "  margin-right: 0.25em;\n",
              "  color: var(--sklearn-color-icon);\n",
              "}\n",
              "\n",
              "#sk-container-id-6 label.sk-toggleable__label-arrow:hover:before {\n",
              "  color: var(--sklearn-color-text);\n",
              "}\n",
              "\n",
              "/* Toggleable content - dropdown */\n",
              "\n",
              "#sk-container-id-6 div.sk-toggleable__content {\n",
              "  max-height: 0;\n",
              "  max-width: 0;\n",
              "  overflow: hidden;\n",
              "  text-align: left;\n",
              "  /* unfitted */\n",
              "  background-color: var(--sklearn-color-unfitted-level-0);\n",
              "}\n",
              "\n",
              "#sk-container-id-6 div.sk-toggleable__content.fitted {\n",
              "  /* fitted */\n",
              "  background-color: var(--sklearn-color-fitted-level-0);\n",
              "}\n",
              "\n",
              "#sk-container-id-6 div.sk-toggleable__content pre {\n",
              "  margin: 0.2em;\n",
              "  border-radius: 0.25em;\n",
              "  color: var(--sklearn-color-text);\n",
              "  /* unfitted */\n",
              "  background-color: var(--sklearn-color-unfitted-level-0);\n",
              "}\n",
              "\n",
              "#sk-container-id-6 div.sk-toggleable__content.fitted pre {\n",
              "  /* unfitted */\n",
              "  background-color: var(--sklearn-color-fitted-level-0);\n",
              "}\n",
              "\n",
              "#sk-container-id-6 input.sk-toggleable__control:checked~div.sk-toggleable__content {\n",
              "  /* Expand drop-down */\n",
              "  max-height: 200px;\n",
              "  max-width: 100%;\n",
              "  overflow: auto;\n",
              "}\n",
              "\n",
              "#sk-container-id-6 input.sk-toggleable__control:checked~label.sk-toggleable__label-arrow:before {\n",
              "  content: \"▾\";\n",
              "}\n",
              "\n",
              "/* Pipeline/ColumnTransformer-specific style */\n",
              "\n",
              "#sk-container-id-6 div.sk-label input.sk-toggleable__control:checked~label.sk-toggleable__label {\n",
              "  color: var(--sklearn-color-text);\n",
              "  background-color: var(--sklearn-color-unfitted-level-2);\n",
              "}\n",
              "\n",
              "#sk-container-id-6 div.sk-label.fitted input.sk-toggleable__control:checked~label.sk-toggleable__label {\n",
              "  background-color: var(--sklearn-color-fitted-level-2);\n",
              "}\n",
              "\n",
              "/* Estimator-specific style */\n",
              "\n",
              "/* Colorize estimator box */\n",
              "#sk-container-id-6 div.sk-estimator input.sk-toggleable__control:checked~label.sk-toggleable__label {\n",
              "  /* unfitted */\n",
              "  background-color: var(--sklearn-color-unfitted-level-2);\n",
              "}\n",
              "\n",
              "#sk-container-id-6 div.sk-estimator.fitted input.sk-toggleable__control:checked~label.sk-toggleable__label {\n",
              "  /* fitted */\n",
              "  background-color: var(--sklearn-color-fitted-level-2);\n",
              "}\n",
              "\n",
              "#sk-container-id-6 div.sk-label label.sk-toggleable__label,\n",
              "#sk-container-id-6 div.sk-label label {\n",
              "  /* The background is the default theme color */\n",
              "  color: var(--sklearn-color-text-on-default-background);\n",
              "}\n",
              "\n",
              "/* On hover, darken the color of the background */\n",
              "#sk-container-id-6 div.sk-label:hover label.sk-toggleable__label {\n",
              "  color: var(--sklearn-color-text);\n",
              "  background-color: var(--sklearn-color-unfitted-level-2);\n",
              "}\n",
              "\n",
              "/* Label box, darken color on hover, fitted */\n",
              "#sk-container-id-6 div.sk-label.fitted:hover label.sk-toggleable__label.fitted {\n",
              "  color: var(--sklearn-color-text);\n",
              "  background-color: var(--sklearn-color-fitted-level-2);\n",
              "}\n",
              "\n",
              "/* Estimator label */\n",
              "\n",
              "#sk-container-id-6 div.sk-label label {\n",
              "  font-family: monospace;\n",
              "  font-weight: bold;\n",
              "  display: inline-block;\n",
              "  line-height: 1.2em;\n",
              "}\n",
              "\n",
              "#sk-container-id-6 div.sk-label-container {\n",
              "  text-align: center;\n",
              "}\n",
              "\n",
              "/* Estimator-specific */\n",
              "#sk-container-id-6 div.sk-estimator {\n",
              "  font-family: monospace;\n",
              "  border: 1px dotted var(--sklearn-color-border-box);\n",
              "  border-radius: 0.25em;\n",
              "  box-sizing: border-box;\n",
              "  margin-bottom: 0.5em;\n",
              "  /* unfitted */\n",
              "  background-color: var(--sklearn-color-unfitted-level-0);\n",
              "}\n",
              "\n",
              "#sk-container-id-6 div.sk-estimator.fitted {\n",
              "  /* fitted */\n",
              "  background-color: var(--sklearn-color-fitted-level-0);\n",
              "}\n",
              "\n",
              "/* on hover */\n",
              "#sk-container-id-6 div.sk-estimator:hover {\n",
              "  /* unfitted */\n",
              "  background-color: var(--sklearn-color-unfitted-level-2);\n",
              "}\n",
              "\n",
              "#sk-container-id-6 div.sk-estimator.fitted:hover {\n",
              "  /* fitted */\n",
              "  background-color: var(--sklearn-color-fitted-level-2);\n",
              "}\n",
              "\n",
              "/* Specification for estimator info (e.g. \"i\" and \"?\") */\n",
              "\n",
              "/* Common style for \"i\" and \"?\" */\n",
              "\n",
              ".sk-estimator-doc-link,\n",
              "a:link.sk-estimator-doc-link,\n",
              "a:visited.sk-estimator-doc-link {\n",
              "  float: right;\n",
              "  font-size: smaller;\n",
              "  line-height: 1em;\n",
              "  font-family: monospace;\n",
              "  background-color: var(--sklearn-color-background);\n",
              "  border-radius: 1em;\n",
              "  height: 1em;\n",
              "  width: 1em;\n",
              "  text-decoration: none !important;\n",
              "  margin-left: 0.5em;\n",
              "  text-align: center;\n",
              "  /* unfitted */\n",
              "  border: var(--sklearn-color-unfitted-level-1) 1pt solid;\n",
              "  color: var(--sklearn-color-unfitted-level-1);\n",
              "}\n",
              "\n",
              ".sk-estimator-doc-link.fitted,\n",
              "a:link.sk-estimator-doc-link.fitted,\n",
              "a:visited.sk-estimator-doc-link.fitted {\n",
              "  /* fitted */\n",
              "  border: var(--sklearn-color-fitted-level-1) 1pt solid;\n",
              "  color: var(--sklearn-color-fitted-level-1);\n",
              "}\n",
              "\n",
              "/* On hover */\n",
              "div.sk-estimator:hover .sk-estimator-doc-link:hover,\n",
              ".sk-estimator-doc-link:hover,\n",
              "div.sk-label-container:hover .sk-estimator-doc-link:hover,\n",
              ".sk-estimator-doc-link:hover {\n",
              "  /* unfitted */\n",
              "  background-color: var(--sklearn-color-unfitted-level-3);\n",
              "  color: var(--sklearn-color-background);\n",
              "  text-decoration: none;\n",
              "}\n",
              "\n",
              "div.sk-estimator.fitted:hover .sk-estimator-doc-link.fitted:hover,\n",
              ".sk-estimator-doc-link.fitted:hover,\n",
              "div.sk-label-container:hover .sk-estimator-doc-link.fitted:hover,\n",
              ".sk-estimator-doc-link.fitted:hover {\n",
              "  /* fitted */\n",
              "  background-color: var(--sklearn-color-fitted-level-3);\n",
              "  color: var(--sklearn-color-background);\n",
              "  text-decoration: none;\n",
              "}\n",
              "\n",
              "/* Span, style for the box shown on hovering the info icon */\n",
              ".sk-estimator-doc-link span {\n",
              "  display: none;\n",
              "  z-index: 9999;\n",
              "  position: relative;\n",
              "  font-weight: normal;\n",
              "  right: .2ex;\n",
              "  padding: .5ex;\n",
              "  margin: .5ex;\n",
              "  width: min-content;\n",
              "  min-width: 20ex;\n",
              "  max-width: 50ex;\n",
              "  color: var(--sklearn-color-text);\n",
              "  box-shadow: 2pt 2pt 4pt #999;\n",
              "  /* unfitted */\n",
              "  background: var(--sklearn-color-unfitted-level-0);\n",
              "  border: .5pt solid var(--sklearn-color-unfitted-level-3);\n",
              "}\n",
              "\n",
              ".sk-estimator-doc-link.fitted span {\n",
              "  /* fitted */\n",
              "  background: var(--sklearn-color-fitted-level-0);\n",
              "  border: var(--sklearn-color-fitted-level-3);\n",
              "}\n",
              "\n",
              ".sk-estimator-doc-link:hover span {\n",
              "  display: block;\n",
              "}\n",
              "\n",
              "/* \"?\"-specific style due to the `<a>` HTML tag */\n",
              "\n",
              "#sk-container-id-6 a.estimator_doc_link {\n",
              "  float: right;\n",
              "  font-size: 1rem;\n",
              "  line-height: 1em;\n",
              "  font-family: monospace;\n",
              "  background-color: var(--sklearn-color-background);\n",
              "  border-radius: 1rem;\n",
              "  height: 1rem;\n",
              "  width: 1rem;\n",
              "  text-decoration: none;\n",
              "  /* unfitted */\n",
              "  color: var(--sklearn-color-unfitted-level-1);\n",
              "  border: var(--sklearn-color-unfitted-level-1) 1pt solid;\n",
              "}\n",
              "\n",
              "#sk-container-id-6 a.estimator_doc_link.fitted {\n",
              "  /* fitted */\n",
              "  border: var(--sklearn-color-fitted-level-1) 1pt solid;\n",
              "  color: var(--sklearn-color-fitted-level-1);\n",
              "}\n",
              "\n",
              "/* On hover */\n",
              "#sk-container-id-6 a.estimator_doc_link:hover {\n",
              "  /* unfitted */\n",
              "  background-color: var(--sklearn-color-unfitted-level-3);\n",
              "  color: var(--sklearn-color-background);\n",
              "  text-decoration: none;\n",
              "}\n",
              "\n",
              "#sk-container-id-6 a.estimator_doc_link.fitted:hover {\n",
              "  /* fitted */\n",
              "  background-color: var(--sklearn-color-fitted-level-3);\n",
              "}\n",
              "</style><div id=\"sk-container-id-6\" class=\"sk-top-container\"><div class=\"sk-text-repr-fallback\"><pre>GaussianNB()</pre><b>In a Jupyter environment, please rerun this cell to show the HTML representation or trust the notebook. <br />On GitHub, the HTML representation is unable to render, please try loading this page with nbviewer.org.</b></div><div class=\"sk-container\" hidden><div class=\"sk-item\"><div class=\"sk-estimator fitted sk-toggleable\"><input class=\"sk-toggleable__control sk-hidden--visually\" id=\"sk-estimator-id-6\" type=\"checkbox\" checked><label for=\"sk-estimator-id-6\" class=\"sk-toggleable__label fitted sk-toggleable__label-arrow\"><div><div>GaussianNB</div></div><div><a class=\"sk-estimator-doc-link fitted\" rel=\"noreferrer\" target=\"_blank\" href=\"https://scikit-learn.org/1.6/modules/generated/sklearn.naive_bayes.GaussianNB.html\">?<span>Documentation for GaussianNB</span></a><span class=\"sk-estimator-doc-link fitted\">i<span>Fitted</span></span></div></label><div class=\"sk-toggleable__content fitted\"><pre>GaussianNB()</pre></div> </div></div></div></div>"
            ]
          },
          "metadata": {},
          "execution_count": 85
        }
      ]
    },
    {
      "cell_type": "markdown",
      "source": [
        "Predicting the test set result"
      ],
      "metadata": {
        "id": "53XUijWlCYew"
      }
    },
    {
      "cell_type": "code",
      "source": [
        "y_pred = classifier.predict(x_test) #menghitung nilai"
      ],
      "metadata": {
        "id": "6mDGsqsG5hBm"
      },
      "execution_count": null,
      "outputs": []
    },
    {
      "cell_type": "code",
      "source": [
        "from sklearn.metrics import confusion_matrix # menghitung keakurasian hasil prediksi\n",
        "cm = confusion_matrix(y_test, y_pred)\n",
        "print (cm)"
      ],
      "metadata": {
        "colab": {
          "base_uri": "https://localhost:8080/"
        },
        "id": "x85O-Ntm5nD1",
        "outputId": "819cc0fc-2bc0-4943-c6b7-8243c2b7892c"
      },
      "execution_count": null,
      "outputs": [
        {
          "output_type": "stream",
          "name": "stdout",
          "text": [
            "[[13  0  0]\n",
            " [ 0 13  3]\n",
            " [ 0  3  6]]\n"
          ]
        }
      ]
    },
    {
      "cell_type": "code",
      "source": [
        "from sklearn.metrics import accuracy_score\n",
        "akurasi = accuracy_score(y_test, y_prediksi)\n",
        "print (\"Tingkat Akurasi : %d persen \" % (akurasi*100))"
      ],
      "metadata": {
        "colab": {
          "base_uri": "https://localhost:8080/"
        },
        "id": "GmEROXMO5p_Z",
        "outputId": "44e0a785-bac8-4b87-df5a-0bdba8467723"
      },
      "execution_count": null,
      "outputs": [
        {
          "output_type": "stream",
          "name": "stdout",
          "text": [
            "Tingkat Akurasi : 84 persen \n"
          ]
        }
      ]
    },
    {
      "cell_type": "code",
      "source": [
        "# Visualisasi hasil pada data training\n",
        "x_set, y_set = x_train, y_train\n",
        "x1, x2 = np.meshgrid(np.arange(start=x_set[:, 0].min() - 1, stop=x_set[:, 0].max() + 1, step=0.01),\n",
        "                     np.arange(start=x_set[:, 1].min() - 1, stop=x_set[:, 1].max() + 1, step=0.01))\n",
        "\n",
        "plt.contourf(x1, x2, classifier.predict(np.array([x1.ravel(), x2.ravel()]).T).reshape(x1.shape),\n",
        "             alpha=0.75, cmap=ListedColormap(('red', 'green', 'blue')))\n",
        "plt.xlim(x1.min(), x1.max())\n",
        "plt.ylim(x2.min(), x2.max())\n",
        "\n",
        "for i, j in enumerate(np.unique(y_set)):\n",
        "    plt.scatter(x_set[y_set == j, 0], x_set[y_set == j, 1],\n",
        "                c=ListedColormap(('red', 'green', 'blue'))(i), label=le.classes_[j])\n",
        "\n",
        "plt.title('Klasifikasi Iris dengan Naive Bayes (Data Training)')\n",
        "plt.xlabel('Sepal Length (standar)')\n",
        "plt.ylabel('Petal Length (standar)')\n",
        "plt.legend()\n",
        "plt.show()"
      ],
      "metadata": {
        "colab": {
          "base_uri": "https://localhost:8080/",
          "height": 527
        },
        "id": "IE31YuCJAY70",
        "outputId": "011e0894-9ed4-45c9-e631-8a91744b7327"
      },
      "execution_count": null,
      "outputs": [
        {
          "output_type": "stream",
          "name": "stderr",
          "text": [
            "<ipython-input-87-cf8895c6c6a2>:12: UserWarning: *c* argument looks like a single numeric RGB or RGBA sequence, which should be avoided as value-mapping will have precedence in case its length matches with *x* & *y*.  Please use the *color* keyword-argument or provide a 2D array with a single row if you intend to specify the same RGB or RGBA value for all points.\n",
            "  plt.scatter(x_set[y_set == j, 0], x_set[y_set == j, 1],\n"
          ]
        },
        {
          "output_type": "display_data",
          "data": {
            "text/plain": [
              "<Figure size 640x480 with 1 Axes>"
            ],
            "image/png": "[encoded data removed]"
          },
          "metadata": {}
        }
      ]
    },
    {
      "cell_type": "code",
      "source": [
        "# Visualisasi hasil pada data testing\n",
        "x_set, y_set = x_test, y_test\n",
        "x1, x2 = np.meshgrid(np.arange(start=x_set[:, 0].min() - 1, stop=x_set[:, 0].max() + 1, step=0.01),\n",
        "                     np.arange(start=x_set[:, 1].min() - 1, stop=x_set[:, 1].max() + 1, step=0.01))\n",
        "\n",
        "plt.contourf(x1, x2, classifier.predict(np.array([x1.ravel(), x2.ravel()]).T).reshape(x1.shape),\n",
        "             alpha=0.75, cmap=ListedColormap(('red', 'green', 'blue')))\n",
        "plt.xlim(x1.min(), x1.max())\n",
        "plt.ylim(x2.min(), x2.max())\n",
        "\n",
        "for i, j in enumerate(np.unique(y_set)):\n",
        "    plt.scatter(x_set[y_set == j, 0], x_set[y_set == j, 1],\n",
        "                c=ListedColormap(('red', 'green', 'blue'))(i), label=le.classes_[j])\n",
        "\n",
        "plt.title('Klasifikasi Iris dengan Naive Bayes (Data Testing)')\n",
        "plt.xlabel('Sepal Length (standar)')\n",
        "plt.ylabel('Petal Length (standar)')\n",
        "plt.legend()\n",
        "plt.show()\n"
      ],
      "metadata": {
        "colab": {
          "base_uri": "https://localhost:8080/",
          "height": 527
        },
        "id": "aNlJmWr3A2jP",
        "outputId": "4ba90ab1-2d06-4c13-9097-c6cb8865cb70"
      },
      "execution_count": null,
      "outputs": [
        {
          "output_type": "stream",
          "name": "stderr",
          "text": [
            "<ipython-input-88-d5735cdb75da>:12: UserWarning: *c* argument looks like a single numeric RGB or RGBA sequence, which should be avoided as value-mapping will have precedence in case its length matches with *x* & *y*.  Please use the *color* keyword-argument or provide a 2D array with a single row if you intend to specify the same RGB or RGBA value for all points.\n",
            "  plt.scatter(x_set[y_set == j, 0], x_set[y_set == j, 1],\n"
          ]
        },
        {
          "output_type": "display_data",
          "data": {
            "text/plain": [
              "<Figure size 640x480 with 1 Axes>"
            ],
            "image/png": "[encoded data removed]"
          },
          "metadata": {}
        }
      ]
    }
  ]
}